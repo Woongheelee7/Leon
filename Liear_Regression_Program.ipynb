{
  "cells": [
    {
      "cell_type": "markdown",
      "metadata": {
        "id": "view-in-github",
        "colab_type": "text"
      },
      "source": [
        "<a href=\"https://colab.research.google.com/github/Woongheelee7/Leon/blob/main/Liear_Regression_Program.ipynb\" target=\"_parent\"><img src=\"https://colab.research.google.com/assets/colab-badge.svg\" alt=\"Open In Colab\"/></a>"
      ]
    },
    {
      "cell_type": "code",
      "execution_count": 224,
      "id": "f99e05a5",
      "metadata": {
        "id": "f99e05a5"
      },
      "outputs": [],
      "source": [
        "from typing import List\n",
        "from typing import Tuple\n",
        "from typing import Union\n",
        "\n",
        "import matplotlib.pyplot as plt\n",
        "import numpy as np\n",
        "import pandas as pd\n",
        "import seaborn as sns\n",
        "import statsmodels.formula.api as smf\n",
        "from statsmodels.formula.api import ols\n",
        "from tqdm import tqdm\n",
        "\n",
        "sns.set(font_scale=1.5)\n",
        "sns.set_style(\"whitegrid\", {'grid.linestyle':'--'})"
      ]
    },
    {
      "cell_type": "markdown",
      "id": "0544c2a3",
      "metadata": {
        "id": "0544c2a3"
      },
      "source": [
        "## Reading data"
      ]
    },
    {
      "cell_type": "code",
      "execution_count": 225,
      "id": "59a66c3d",
      "metadata": {
        "colab": {
          "base_uri": "https://localhost:8080/",
          "height": 206
        },
        "id": "59a66c3d",
        "outputId": "07fd2bee-62a7-4da9-8fbb-221c2464b738"
      },
      "outputs": [
        {
          "output_type": "execute_result",
          "data": {
            "text/plain": [
              "   firstcol  secondcol    thirdcol\n",
              "0   -15.000   -555.482  225.000000\n",
              "1   -14.824   -388.301  219.750976\n",
              "2   -14.648   -317.445  214.563904\n",
              "3   -14.472   -412.942  209.438784\n",
              "4   -14.296   -310.663  204.375616"
            ],
            "text/html": [
              "\n",
              "  <div id=\"df-b930bbd3-1459-4d2d-aec0-cadea6a96b2f\">\n",
              "    <div class=\"colab-df-container\">\n",
              "      <div>\n",
              "<style scoped>\n",
              "    .dataframe tbody tr th:only-of-type {\n",
              "        vertical-align: middle;\n",
              "    }\n",
              "\n",
              "    .dataframe tbody tr th {\n",
              "        vertical-align: top;\n",
              "    }\n",
              "\n",
              "    .dataframe thead th {\n",
              "        text-align: right;\n",
              "    }\n",
              "</style>\n",
              "<table border=\"1\" class=\"dataframe\">\n",
              "  <thead>\n",
              "    <tr style=\"text-align: right;\">\n",
              "      <th></th>\n",
              "      <th>firstcol</th>\n",
              "      <th>secondcol</th>\n",
              "      <th>thirdcol</th>\n",
              "    </tr>\n",
              "  </thead>\n",
              "  <tbody>\n",
              "    <tr>\n",
              "      <th>0</th>\n",
              "      <td>-15.000</td>\n",
              "      <td>-555.482</td>\n",
              "      <td>225.000000</td>\n",
              "    </tr>\n",
              "    <tr>\n",
              "      <th>1</th>\n",
              "      <td>-14.824</td>\n",
              "      <td>-388.301</td>\n",
              "      <td>219.750976</td>\n",
              "    </tr>\n",
              "    <tr>\n",
              "      <th>2</th>\n",
              "      <td>-14.648</td>\n",
              "      <td>-317.445</td>\n",
              "      <td>214.563904</td>\n",
              "    </tr>\n",
              "    <tr>\n",
              "      <th>3</th>\n",
              "      <td>-14.472</td>\n",
              "      <td>-412.942</td>\n",
              "      <td>209.438784</td>\n",
              "    </tr>\n",
              "    <tr>\n",
              "      <th>4</th>\n",
              "      <td>-14.296</td>\n",
              "      <td>-310.663</td>\n",
              "      <td>204.375616</td>\n",
              "    </tr>\n",
              "  </tbody>\n",
              "</table>\n",
              "</div>\n",
              "      <button class=\"colab-df-convert\" onclick=\"convertToInteractive('df-b930bbd3-1459-4d2d-aec0-cadea6a96b2f')\"\n",
              "              title=\"Convert this dataframe to an interactive table.\"\n",
              "              style=\"display:none;\">\n",
              "        \n",
              "  <svg xmlns=\"http://www.w3.org/2000/svg\" height=\"24px\"viewBox=\"0 0 24 24\"\n",
              "       width=\"24px\">\n",
              "    <path d=\"M0 0h24v24H0V0z\" fill=\"none\"/>\n",
              "    <path d=\"M18.56 5.44l.94 2.06.94-2.06 2.06-.94-2.06-.94-.94-2.06-.94 2.06-2.06.94zm-11 1L8.5 8.5l.94-2.06 2.06-.94-2.06-.94L8.5 2.5l-.94 2.06-2.06.94zm10 10l.94 2.06.94-2.06 2.06-.94-2.06-.94-.94-2.06-.94 2.06-2.06.94z\"/><path d=\"M17.41 7.96l-1.37-1.37c-.4-.4-.92-.59-1.43-.59-.52 0-1.04.2-1.43.59L10.3 9.45l-7.72 7.72c-.78.78-.78 2.05 0 2.83L4 21.41c.39.39.9.59 1.41.59.51 0 1.02-.2 1.41-.59l7.78-7.78 2.81-2.81c.8-.78.8-2.07 0-2.86zM5.41 20L4 18.59l7.72-7.72 1.47 1.35L5.41 20z\"/>\n",
              "  </svg>\n",
              "      </button>\n",
              "      \n",
              "  <style>\n",
              "    .colab-df-container {\n",
              "      display:flex;\n",
              "      flex-wrap:wrap;\n",
              "      gap: 12px;\n",
              "    }\n",
              "\n",
              "    .colab-df-convert {\n",
              "      background-color: #E8F0FE;\n",
              "      border: none;\n",
              "      border-radius: 50%;\n",
              "      cursor: pointer;\n",
              "      display: none;\n",
              "      fill: #1967D2;\n",
              "      height: 32px;\n",
              "      padding: 0 0 0 0;\n",
              "      width: 32px;\n",
              "    }\n",
              "\n",
              "    .colab-df-convert:hover {\n",
              "      background-color: #E2EBFA;\n",
              "      box-shadow: 0px 1px 2px rgba(60, 64, 67, 0.3), 0px 1px 3px 1px rgba(60, 64, 67, 0.15);\n",
              "      fill: #174EA6;\n",
              "    }\n",
              "\n",
              "    [theme=dark] .colab-df-convert {\n",
              "      background-color: #3B4455;\n",
              "      fill: #D2E3FC;\n",
              "    }\n",
              "\n",
              "    [theme=dark] .colab-df-convert:hover {\n",
              "      background-color: #434B5C;\n",
              "      box-shadow: 0px 1px 3px 1px rgba(0, 0, 0, 0.15);\n",
              "      filter: drop-shadow(0px 1px 2px rgba(0, 0, 0, 0.3));\n",
              "      fill: #FFFFFF;\n",
              "    }\n",
              "  </style>\n",
              "\n",
              "      <script>\n",
              "        const buttonEl =\n",
              "          document.querySelector('#df-b930bbd3-1459-4d2d-aec0-cadea6a96b2f button.colab-df-convert');\n",
              "        buttonEl.style.display =\n",
              "          google.colab.kernel.accessAllowed ? 'block' : 'none';\n",
              "\n",
              "        async function convertToInteractive(key) {\n",
              "          const element = document.querySelector('#df-b930bbd3-1459-4d2d-aec0-cadea6a96b2f');\n",
              "          const dataTable =\n",
              "            await google.colab.kernel.invokeFunction('convertToInteractive',\n",
              "                                                     [key], {});\n",
              "          if (!dataTable) return;\n",
              "\n",
              "          const docLinkHtml = 'Like what you see? Visit the ' +\n",
              "            '<a target=\"_blank\" href=https://colab.research.google.com/notebooks/data_table.ipynb>data table notebook</a>'\n",
              "            + ' to learn more about interactive tables.';\n",
              "          element.innerHTML = '';\n",
              "          dataTable['output_type'] = 'display_data';\n",
              "          await google.colab.output.renderOutput(dataTable, element);\n",
              "          const docLink = document.createElement('div');\n",
              "          docLink.innerHTML = docLinkHtml;\n",
              "          element.appendChild(docLink);\n",
              "        }\n",
              "      </script>\n",
              "    </div>\n",
              "  </div>\n",
              "  "
            ]
          },
          "metadata": {},
          "execution_count": 225
        }
      ],
      "source": [
        "data = pd.read_csv(\"https://raw.githubusercontent.com/changyaochen/MECE4520/master/data/simple_linear_regression.csv\",names=[\"firstcol\",\"secondcol\"])\n",
        "data['thirdcol']=np.nan\n",
        "data['thirdcol']=data['firstcol']*data['firstcol']\n",
        "data.head()\n",
        "\n"
      ]
    },
    {
      "cell_type": "markdown",
      "id": "6c1e2100",
      "metadata": {
        "id": "6c1e2100"
      },
      "source": [
        "## Simple linear regression"
      ]
    },
    {
      "cell_type": "code",
      "execution_count": 226,
      "id": "0f4dac78",
      "metadata": {
        "colab": {
          "base_uri": "https://localhost:8080/"
        },
        "id": "0f4dac78",
        "outputId": "cb34ce5f-777e-43af-e2b8-cc24f4db190b"
      },
      "outputs": [
        {
          "output_type": "stream",
          "name": "stdout",
          "text": [
            "beta_0 is: -35.3330\n",
            "beta_1 is: 18.2241\n",
            "R-square is: 0.8221\n"
          ]
        }
      ],
      "source": [
        "\n",
        "\n",
        "y = data[\"secondcol\"]\n",
        "x = data[\"firstcol\"]\n",
        "\n",
        "def simple_linear_regression(\n",
        "    x: Union[List, np.ndarray, pd.Series], \n",
        "    y: Union[List, np.ndarray, pd.Series]) -> Tuple[float, float]:\n",
        "    \"\"\"Return the intercept and slope of a simple linear regression.\"\"\"\n",
        "    beta_1 = np.cov(x, y)[0][1] / np.cov(x, x)[0][1]\n",
        "    beta_0 = np.mean(y) - beta_1 * np.mean(x)\n",
        "    \n",
        "    return beta_0, beta_1\n",
        "\n",
        "beta_0, beta_1 = simple_linear_regression(x=x, y=y)\n",
        "\n",
        "# calculate R^2\n",
        "y_pred = beta_0 + beta_1 * x\n",
        "SST = np.sum(np.square(y - np.mean(y)))\n",
        "residual = y - y_pred\n",
        "SSE = np.sum(np.square(residual))\n",
        "r2 = 1 - SSE / SST\n",
        "\n",
        "print(f\"beta_0 is: {beta_0:5.4f}\")\n",
        "print(f\"beta_1 is: {beta_1:5.4f}\")\n",
        "print(f\"R-square is: {r2:5.4f}\")\n"
      ]
    },
    {
      "cell_type": "code",
      "execution_count": 227,
      "id": "f38a6ccf",
      "metadata": {
        "colab": {
          "base_uri": "https://localhost:8080/"
        },
        "id": "f38a6ccf",
        "outputId": "2895c483-d92c-494e-9bee-2f5a37806e6a"
      },
      "outputs": [
        {
          "output_type": "stream",
          "name": "stdout",
          "text": [
            "The standard error for beta_0 is: 6.3000\n",
            "The standard error for beta_1 is: 0.6024\n"
          ]
        }
      ],
      "source": [
        "# confidence intervals\n",
        "SE_beta_0 = (np.var(residual, ddof=2) * (1. / len(x) + (np.mean(x))**2 / np.sum((x - np.mean(x))**2)))**0.5\n",
        "SE_beta_1 = (np.var(residual,ddof=2) / np.sum((x - np.mean(x))**2))**0.5 \n",
        "\n",
        "print(f\"The standard error for beta_0 is: {SE_beta_0:5.4f}\")\n",
        "print(f\"The standard error for beta_1 is: {SE_beta_1:5.4f}\")"
      ]
    },
    {
      "cell_type": "code",
      "execution_count": 228,
      "id": "d0c59331",
      "metadata": {
        "colab": {
          "base_uri": "https://localhost:8080/"
        },
        "id": "d0c59331",
        "outputId": "3a815611-d1b2-4d55-b9a2-4c0bc3a731ce"
      },
      "outputs": [
        {
          "output_type": "stream",
          "name": "stdout",
          "text": [
            "                            OLS Regression Results                            \n",
            "==============================================================================\n",
            "Dep. Variable:              secondcol   R-squared:                       0.822\n",
            "Model:                            OLS   Adj. R-squared:                  0.821\n",
            "Method:                 Least Squares   F-statistic:                     915.1\n",
            "Date:                Thu, 13 Oct 2022   Prob (F-statistic):           3.61e-76\n",
            "Time:                        03:03:13   Log-Likelihood:                -1174.8\n",
            "No. Observations:                 200   AIC:                             2354.\n",
            "Df Residuals:                     198   BIC:                             2360.\n",
            "Df Model:                           1                                         \n",
            "Covariance Type:            nonrobust                                         \n",
            "==============================================================================\n",
            "                 coef    std err          t      P>|t|      [0.025      0.975]\n",
            "------------------------------------------------------------------------------\n",
            "Intercept    -35.3330      6.300     -5.608      0.000     -47.757     -22.909\n",
            "firstcol      18.2241      0.602     30.251      0.000      17.036      19.412\n",
            "==============================================================================\n",
            "Omnibus:                        0.602   Durbin-Watson:                   1.681\n",
            "Prob(Omnibus):                  0.740   Jarque-Bera (JB):                0.722\n",
            "Skew:                           0.050   Prob(JB):                        0.697\n",
            "Kurtosis:                       2.723   Cond. No.                         10.8\n",
            "==============================================================================\n",
            "\n",
            "Notes:\n",
            "[1] Standard Errors assume that the covariance matrix of the errors is correctly specified.\n"
          ]
        }
      ],
      "source": [
        "# simple linear regression with the `statsmodels` library\n",
        "model_1 = smf.ols(formula=' secondcol ~ firstcol',data=data)\n",
        "result_1 = model_1.fit()\n",
        "print(result_1.summary())"
      ]
    },
    {
      "cell_type": "markdown",
      "source": [],
      "metadata": {
        "id": "nSeQeyiESNY7"
      },
      "id": "nSeQeyiESNY7"
    },
    {
      "cell_type": "code",
      "execution_count": 229,
      "id": "edaa93c5",
      "metadata": {
        "id": "edaa93c5",
        "outputId": "33d6211e-1264-4b4f-861e-0c858af1131a",
        "colab": {
          "base_uri": "https://localhost:8080/"
        }
      },
      "outputs": [
        {
          "output_type": "stream",
          "name": "stdout",
          "text": [
            "When x=10, CI of y hat\n",
            "CI with variable [ 132.0020 , 161.8136]\n",
            "146.9077810655238 = y hat\n",
            "CI with constant [ 132.0022 , 161.8138]\n",
            "146.908 = y hat\n"
          ]
        }
      ],
      "source": [
        "# 1-5 problem.\n",
        "\n",
        "print(\"When x=10, CI of y hat\")\n",
        "LOW_pred_y = (beta_0+10*beta_1)-1.96*(np.var(residual, ddof=2) * (1. / len(x) + (10-np.mean(x))**2 / np.sum((x - np.mean(x))**2)))**0.5\n",
        "UP_pred_y = (beta_0+10*beta_1)+1.96*(np.var(residual, ddof=2) * (1. / len(x) + (10-np.mean(x))**2 / np.sum((x - np.mean(x))**2)))**0.5\n",
        "print(f\"CI with variable [ {LOW_pred_y:5.4f}\",f\", {UP_pred_y:5.4f}]\")\n",
        "print(beta_0+10*beta_1,\"= y hat\")\n",
        "LOW_pred_y2 = (-35.3330+10*18.2241)-1.96*(np.var(residual, ddof=2) * (1. / len(x) + (10-np.mean(x))**2 / np.sum((x - np.mean(x))**2)))**0.5\n",
        "UP_pred_y2 = (-35.3330+10*18.2241)+1.96*(np.var(residual, ddof=2) * (1. / len(x) + (10-np.mean(x))**2 / np.sum((x - np.mean(x))**2)))**0.5\n",
        "print(f\"CI with constant [ {LOW_pred_y2:5.4f}\",f\", {UP_pred_y2:5.4f}]\")\n",
        "print(-35.3330+10*18.2241,\"= y hat\")"
      ]
    },
    {
      "cell_type": "markdown",
      "id": "c3b89fb5",
      "metadata": {
        "id": "c3b89fb5"
      },
      "source": [
        "## Multi-variant linear regression"
      ]
    },
    {
      "cell_type": "code",
      "execution_count": 230,
      "id": "0b2f6b77",
      "metadata": {
        "id": "0b2f6b77",
        "outputId": "e94aff02-b9b7-41f5-81c2-1976bac743c9",
        "colab": {
          "base_uri": "https://localhost:8080/"
        }
      },
      "outputs": [
        {
          "output_type": "stream",
          "name": "stdout",
          "text": [
            "                            OLS Regression Results                            \n",
            "==============================================================================\n",
            "Dep. Variable:              secondcol   R-squared:                       0.822\n",
            "Model:                            OLS   Adj. R-squared:                  0.820\n",
            "Method:                 Least Squares   F-statistic:                     455.4\n",
            "Date:                Thu, 13 Oct 2022   Prob (F-statistic):           1.33e-74\n",
            "Time:                        03:03:13   Log-Likelihood:                -1174.8\n",
            "No. Observations:                 200   AIC:                             2356.\n",
            "Df Residuals:                     197   BIC:                             2365.\n",
            "Df Model:                           2                                         \n",
            "Covariance Type:            nonrobust                                         \n",
            "==============================================================================\n",
            "                 coef    std err          t      P>|t|      [0.025      0.975]\n",
            "------------------------------------------------------------------------------\n",
            "Intercept    -37.0521      9.020     -4.108      0.000     -54.839     -19.265\n",
            "firstcol      18.1353      0.689     26.309      0.000      16.776      19.495\n",
            "thirdcol       0.0177      0.066      0.267      0.790      -0.113       0.149\n",
            "==============================================================================\n",
            "Omnibus:                        0.585   Durbin-Watson:                   1.681\n",
            "Prob(Omnibus):                  0.746   Jarque-Bera (JB):                0.706\n",
            "Skew:                           0.045   Prob(JB):                        0.703\n",
            "Kurtosis:                       2.723   Cond. No.                         223.\n",
            "==============================================================================\n",
            "\n",
            "Notes:\n",
            "[1] Standard Errors assume that the covariance matrix of the errors is correctly specified.\n"
          ]
        }
      ],
      "source": [
        "model_2 = smf.ols(formula='secondcol ~ firstcol + thirdcol', data=data)\n",
        "result_2 = model_2.fit()\n",
        "print(result_2.summary())"
      ]
    }
  ],
  "metadata": {
    "kernelspec": {
      "display_name": "Python 3 (ipykernel)",
      "language": "python",
      "name": "python3"
    },
    "language_info": {
      "codemirror_mode": {
        "name": "ipython",
        "version": 3
      },
      "file_extension": ".py",
      "mimetype": "text/x-python",
      "name": "python",
      "nbconvert_exporter": "python",
      "pygments_lexer": "ipython3",
      "version": "3.10.6"
    },
    "colab": {
      "provenance": [],
      "name": "Liear_Regression_Program.ipynb",
      "collapsed_sections": [],
      "include_colab_link": true
    }
  },
  "nbformat": 4,
  "nbformat_minor": 5
}