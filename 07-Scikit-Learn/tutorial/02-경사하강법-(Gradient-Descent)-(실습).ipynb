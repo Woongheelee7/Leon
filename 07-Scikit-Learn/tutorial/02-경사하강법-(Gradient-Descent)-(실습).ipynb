{
  "cells": [
    {
      "cell_type": "markdown",
      "metadata": {
        "id": "ryxF5RiKUqxx"
      },
      "source": [
        "# 경사하강법 (Gradient Descent)"
      ]
    },
    {
      "cell_type": "markdown",
      "metadata": {
        "id": "uj8r5IFZUqxx"
      },
      "source": [
        "기본 개념은 함수의 기울기(경사)를 구하여 기울기가 낮은 쪽으로 계속 이동시켜서 극값에 이를 때까지 반복시키는 것입니다.\n",
        "\n",
        "**비용 함수 (Cost Function 혹은 Loss Function)를 최소화**하기 위해 반복해서 파라미터를 업데이트 해 나가는 방식입니다."
      ]
    },
    {
      "cell_type": "code",
      "execution_count": 1,
      "metadata": {
        "id": "w7mltdDGUqxy",
        "outputId": "5198dca2-3f89-4013-a96a-345c4a4c633b",
        "colab": {
          "base_uri": "https://localhost:8080/",
          "height": 341
        }
      },
      "outputs": [
        {
          "output_type": "execute_result",
          "data": {
            "text/html": [
              "<img src=\"https://img.pngio.com/scikit-learn-batch-gradient-descent-versus-stochastic-gradient-descent-png-592_319.png\"/>"
            ],
            "text/plain": [
              "<IPython.core.display.Image object>"
            ]
          },
          "metadata": {},
          "execution_count": 1
        }
      ],
      "source": [
        "from IPython.display import Image\n",
        "import numpy as np\n",
        "import matplotlib.pyplot as plt\n",
        "import warnings\n",
        "\n",
        "# 경고 메시지 출력 표기 생략\n",
        "warnings.filterwarnings('ignore')\n",
        "\n",
        "Image(url='https://img.pngio.com/scikit-learn-batch-gradient-descent-versus-stochastic-gradient-descent-png-592_319.png')"
      ]
    },
    {
      "cell_type": "markdown",
      "metadata": {
        "id": "ZRuLBqohLMsY"
      },
      "source": [
        "## 샘플에 활용할 데이터 셋 만들기"
      ]
    },
    {
      "cell_type": "code",
      "execution_count": 2,
      "metadata": {
        "id": "pzZRFqeZUqx9"
      },
      "outputs": [],
      "source": [
        "def make_linear(w=0.5, b=0.8, size=50, noise=1.0):\n",
        "    x = np.random.rand(size)\n",
        "    y = w * x + b\n",
        "    noise = np.random.uniform(-abs(noise), abs(noise), size=y.shape)\n",
        "    yy = y + noise\n",
        "    plt.figure(figsize=(10, 7))\n",
        "    plt.plot(x, y, color='r', label=f'y = {w}x + {b}')\n",
        "    plt.scatter(x, yy, label='data')\n",
        "    plt.legend(fontsize=15)\n",
        "    plt.show()\n",
        "    print(f'w: {w}, b: {b}')\n",
        "    return x, yy"
      ]
    },
    {
      "cell_type": "code",
      "execution_count": 3,
      "metadata": {
        "id": "-qcmWy8JUqx_",
        "outputId": "aeb219f3-ba8a-4e48-eb0c-e27543bae2c2",
        "colab": {
          "base_uri": "https://localhost:8080/",
          "height": 446
        }
      },
      "outputs": [
        {
          "output_type": "display_data",
          "data": {
            "text/plain": [
              "<Figure size 720x504 with 1 Axes>"
            ],
            "image/png": "[encoded data removed]"
          },
          "metadata": {
            "needs_background": "light"
          }
        },
        {
          "output_type": "stream",
          "name": "stdout",
          "text": [
            "w: 0.3, b: 0.5\n"
          ]
        }
      ],
      "source": [
        "x, y = make_linear(w=0.3, b=0.5, size=100, noise=0.01)"
      ]
    },
    {
      "cell_type": "markdown",
      "metadata": {
        "id": "CM-u7na_LMsf"
      },
      "source": [
        "## 초기값 (Initializer)과 y_hat (예측, prediction) 함수 정의"
      ]
    },
    {
      "cell_type": "markdown",
      "metadata": {
        "id": "tauo0pixUqyC"
      },
      "source": [
        "w, b 값에 대하여 random한 초기 값을 설정해 줍니다."
      ]
    },
    {
      "cell_type": "code",
      "execution_count": 4,
      "metadata": {
        "id": "w-_dJXtfpYGB"
      },
      "outputs": [],
      "source": [
        "w = np.random.uniform(low=0.0, high=1.0)\n",
        "b = np.random.uniform(low=0.0, high=1.0)"
      ]
    },
    {
      "cell_type": "markdown",
      "metadata": {
        "id": "WuTVUI03UqyE"
      },
      "source": [
        "`y_hat`은 `prediction`은 값 입니다. 즉, 가설함수에서 실제 값 (y)를 뺀 함수를 정의합니다."
      ]
    },
    {
      "cell_type": "code",
      "execution_count": 6,
      "metadata": {
        "id": "trVygK4GLMsg"
      },
      "outputs": [],
      "source": [
        "# 코드를 입력해 주세요\n",
        "y_hat = w * x + b"
      ]
    },
    {
      "cell_type": "markdown",
      "metadata": {
        "id": "4N6MK4elLMsi"
      },
      "source": [
        "## 오차(Error) 정의"
      ]
    },
    {
      "cell_type": "markdown",
      "metadata": {
        "id": "r19eta8MLMsj"
      },
      "source": [
        "Loss Function 혹은 Cost Function을 정의 합니다.\n",
        "\n",
        "Loss (Cost) Function은 예측값인 `y_hat`과 `y`의 차이에 **제곱의 평균**으로 정의합니다.\n",
        "\n",
        "제곱은 오차에 대한 음수 값을 허용하지 않으며, 이는 **Mean Squared Error(MSE)**인 평균 제곱 오차 평가 지표와 관련 있습니다."
      ]
    },
    {
      "cell_type": "code",
      "execution_count": 7,
      "metadata": {
        "id": "ygZPHM2xLMsj"
      },
      "outputs": [],
      "source": [
        "# 코드를 입력해 주세요\n",
        "error = (y_hat - y) ** 2"
      ]
    },
    {
      "cell_type": "markdown",
      "metadata": {
        "id": "VwzjytZvUqyI"
      },
      "source": [
        "## 학습률 (Learning Rate)"
      ]
    },
    {
      "cell_type": "code",
      "execution_count": 8,
      "metadata": {
        "id": "9t_hsbBUUqyJ",
        "outputId": "44a550d6-841b-41fc-8228-0d66643cb50a",
        "colab": {
          "base_uri": "https://localhost:8080/",
          "height": 1000
        }
      },
      "outputs": [
        {
          "output_type": "execute_result",
          "data": {
            "text/html": [
              "<img src=\"https://www.deeplearningwizard.com/deep_learning/boosting_models_pytorch/images/lr1.png\"/>"
            ],
            "text/plain": [
              "<IPython.core.display.Image object>"
            ]
          },
          "metadata": {},
          "execution_count": 8
        }
      ],
      "source": [
        "Image(url='https://www.deeplearningwizard.com/deep_learning/boosting_models_pytorch/images/lr1.png')"
      ]
    },
    {
      "cell_type": "markdown",
      "metadata": {
        "id": "NJMFH9wTUqyL"
      },
      "source": [
        "한 번 학습할 때 **얼마만큼 가중치(weight)를 업데이트** 해야 하는지 학습 양을 의미합니다.\n",
        "\n",
        "너무 큰 학습률 (Learning Rate)은 가중치 갱신이 크게 되어 **자칫 Error가 수렴하지 못하고 발산**할 수 있으며,\n",
        "\n",
        "너무 작은 학습률은 가중치 갱신이 작게 되어 **가중치 갱신이 충분히 되지 않고, 학습이 끝나** 버릴 수 있습니다. 즉 과소 적합되어 있는 상태로 남아 있을 수 있습니다.\n",
        "\n"
      ]
    },
    {
      "cell_type": "markdown",
      "metadata": {
        "id": "ajAr6o76LMsm"
      },
      "source": [
        "## Gradient Descent 구현 (단항식)"
      ]
    },
    {
      "cell_type": "code",
      "execution_count": 9,
      "metadata": {
        "id": "1iIYNKTyLMsm"
      },
      "outputs": [],
      "source": [
        "# 최대 반복 횟수\n",
        "num_epoch = 500\n",
        "\n",
        "# 학습율 (learning_rate)\n",
        "learning_rate = 0.5"
      ]
    },
    {
      "cell_type": "code",
      "execution_count": 14,
      "metadata": {
        "colab": {
          "base_uri": "https://localhost:8080/"
        },
        "id": "IpQ6BcuMLMso",
        "outputId": "8f872e56-0d6b-4332-ea9e-41cb8be77ab9"
      },
      "outputs": [
        {
          "output_type": "stream",
          "name": "stdout",
          "text": [
            " 0 w = -0.33974, b = 0.56506 error = 0.78395\n",
            " 5 w = -0.13394, b = 0.74801 error = 0.01687\n",
            "10 w = -0.06910, b = 0.71213 error = 0.01223\n",
            "15 w = -0.01441, b = 0.68063 error = 0.00888\n",
            "20 w = 0.03216, b = 0.65381 error = 0.00645\n",
            "25 w = 0.07182, b = 0.63097 error = 0.00468\n",
            "30 w = 0.10559, b = 0.61152 error = 0.00341\n",
            "35 w = 0.13435, b = 0.59495 error = 0.00248\n",
            "40 w = 0.15884, b = 0.58084 error = 0.00181\n",
            "45 w = 0.17970, b = 0.56883 error = 0.00132\n",
            "50 w = 0.19746, b = 0.55860 error = 0.00097\n",
            "55 w = 0.21259, b = 0.54988 error = 0.00071\n",
            "60 w = 0.22547, b = 0.54246 error = 0.00052\n",
            "------------------------------------------------------------\n",
            "61 w = 0.2, b = 0.5 error = 0.00049\n"
          ]
        }
      ],
      "source": [
        "errors = []\n",
        "# random 한 값으로 w, b를 초기화 합니다.\n",
        "w = np.random.uniform(low=-1.0, high=1.0)\n",
        "b = np.random.uniform(low=-1.0, high=1.0)\n",
        "\n",
        "for epoch in range(num_epoch):\n",
        "    y_hat = x * w + b\n",
        "\n",
        "    error = ((y_hat - y)**2).mean()\n",
        "    if error < 0.0005:\n",
        "        break\n",
        "    \n",
        "    w = w - learning_rate * ((y_hat - y) * x).mean()\n",
        "    b = b - learning_rate * (y_hat - y).mean()\n",
        "    \n",
        "    errors.append(error)\n",
        "    \n",
        "    if epoch % 5 == 0:\n",
        "        print(\"{0:2} w = {1:.5f}, b = {2:.5f} error = {3:.5f}\".format(epoch, w, b, error))\n",
        "\n",
        "print(\"----\" * 15)\n",
        "print(\"{0:2} w = {1:.1f}, b = {2:.1f} error = {3:.5f}\".format(epoch, w, b, error))"
      ]
    },
    {
      "cell_type": "markdown",
      "metadata": {
        "id": "gZnRP06EUqyP"
      },
      "source": [
        "**시각화**\n",
        "\n",
        "학습 진행(epoch)에 따른 오차를 시각화 합니다."
      ]
    },
    {
      "cell_type": "code",
      "execution_count": 15,
      "metadata": {
        "colab": {
          "base_uri": "https://localhost:8080/",
          "height": 442
        },
        "id": "IblSaamPLMss",
        "outputId": "5c479ccb-cd53-48e3-b06b-57071e174747"
      },
      "outputs": [
        {
          "output_type": "display_data",
          "data": {
            "text/plain": [
              "<Figure size 720x504 with 1 Axes>"
            ],
            "image/png": "[encoded data removed]"
          },
          "metadata": {
            "needs_background": "light"
          }
        }
      ],
      "source": [
        "plt.figure(figsize=(10, 7))\n",
        "plt.plot(errors)\n",
        "plt.xlabel('Epochs')\n",
        "plt.ylabel('Error')\n",
        "plt.show()"
      ]
    },
    {
      "cell_type": "markdown",
      "metadata": {
        "id": "Q8iw7WZNpR_I"
      },
      "source": [
        "## 다항식"
      ]
    },
    {
      "cell_type": "markdown",
      "metadata": {
        "id": "VpgsozbDUqyR"
      },
      "source": [
        "**샘플 데이터**를 생성합니다."
      ]
    },
    {
      "cell_type": "markdown",
      "metadata": {
        "id": "PAdOEqXCUqyR"
      },
      "source": [
        "이번에는 Feature Data, 즉 X 값이 여러 개인 다항식의 경우에 대해서도 구해보도록 하겠습니다.\n",
        "\n",
        "다항식에서는 X의 갯수 만큼, W 갯수도 늘어날 것입니다.\n",
        "\n",
        "다만, bias (b)의 계수는 1개인 점에 유의해 주세요."
      ]
    },
    {
      "cell_type": "code",
      "execution_count": 16,
      "metadata": {
        "id": "woNtXYodpSFm"
      },
      "outputs": [],
      "source": [
        "x1 = np.random.rand(100)\n",
        "x2 = np.random.rand(100)\n",
        "x3 = np.random.rand(100)"
      ]
    },
    {
      "cell_type": "markdown",
      "metadata": {
        "id": "SsWfNXITvMWt"
      },
      "source": [
        "**다항식을 정의**합니다."
      ]
    },
    {
      "cell_type": "code",
      "execution_count": 17,
      "metadata": {
        "id": "5aNdmIf8pvJ6"
      },
      "outputs": [],
      "source": [
        "y = 0.3 * x1 + 0.5 * x2 + 0.7 * x3 + 0.9"
      ]
    },
    {
      "cell_type": "markdown",
      "metadata": {
        "id": "sgLRY_MoUqyW"
      },
      "source": [
        "## Gradient Descent 구현 (다항식)"
      ]
    },
    {
      "cell_type": "code",
      "execution_count": 19,
      "metadata": {
        "colab": {
          "base_uri": "https://localhost:8080/"
        },
        "id": "Z5IuMfOMqAWq",
        "outputId": "86339e88-d86b-48d2-8f6b-6ad490f8e274"
      },
      "outputs": [
        {
          "output_type": "stream",
          "name": "stdout",
          "text": [
            " 0 w1 = 0.37047, w2 = 0.41700, w3 = 0.81732, b = 0.81269 error = 0.29765\n",
            " 5 w1 = 0.36448, w2 = 0.45029, w3 = 0.80225, b = 0.83550 error = 0.00192\n",
            "10 w1 = 0.35276, w2 = 0.46839, w3 = 0.78391, b = 0.84207 error = 0.00118\n",
            "15 w1 = 0.34353, w2 = 0.48152, w3 = 0.76938, b = 0.84791 error = 0.00075\n",
            "20 w1 = 0.33622, w2 = 0.49093, w3 = 0.75781, b = 0.85313 error = 0.00048\n",
            "25 w1 = 0.33038, w2 = 0.49759, w3 = 0.74853, b = 0.85779 error = 0.00032\n",
            "30 w1 = 0.32569, w2 = 0.50220, w3 = 0.74103, b = 0.86196 error = 0.00022\n",
            "35 w1 = 0.32189, w2 = 0.50530, w3 = 0.73494, b = 0.86570 error = 0.00016\n",
            "40 w1 = 0.31879, w2 = 0.50730, w3 = 0.72995, b = 0.86906 error = 0.00012\n",
            "45 w1 = 0.31623, w2 = 0.50850, w3 = 0.72583, b = 0.87208 error = 0.00009\n",
            "50 w1 = 0.31411, w2 = 0.50912, w3 = 0.72240, b = 0.87480 error = 0.00007\n",
            "55 w1 = 0.31233, w2 = 0.50933, w3 = 0.71953, b = 0.87725 error = 0.00005\n",
            "60 w1 = 0.31083, w2 = 0.50926, w3 = 0.71711, b = 0.87945 error = 0.00004\n",
            "65 w1 = 0.30955, w2 = 0.50900, w3 = 0.71505, b = 0.88144 error = 0.00003\n",
            "70 w1 = 0.30845, w2 = 0.50860, w3 = 0.71329, b = 0.88323 error = 0.00003\n",
            "75 w1 = 0.30751, w2 = 0.50814, w3 = 0.71177, b = 0.88485 error = 0.00002\n",
            "80 w1 = 0.30668, w2 = 0.50763, w3 = 0.71046, b = 0.88631 error = 0.00002\n",
            "85 w1 = 0.30597, w2 = 0.50710, w3 = 0.70931, b = 0.88763 error = 0.00001\n",
            "90 w1 = 0.30534, w2 = 0.50657, w3 = 0.70831, b = 0.88882 error = 0.00001\n",
            "------------------------------------------------------------\n",
            "93 w1 = 0.3, w2 = 0.5, w3 = 0.7, b = 0.9 error = 0.00001\n"
          ]
        }
      ],
      "source": [
        "errors = []\n",
        "w1_grad = []\n",
        "w2_grad = []\n",
        "w3_grad = []\n",
        "\n",
        "num_epoch=5000\n",
        "learning_rate=0.5\n",
        "\n",
        "w1 = np.random.uniform(low=-1.0, high=1.0)\n",
        "w2 = np.random.uniform(low=-1.0, high=1.0)\n",
        "w3 = np.random.uniform(low=-1.0, high=1.0)\n",
        "\n",
        "b1 = np.random.uniform(low=-1.0, high=1.0)\n",
        "b2 = np.random.uniform(low=-1.0, high=1.0)\n",
        "b3 = np.random.uniform(low=-1.0, high=1.0)\n",
        "\n",
        "for epoch in range(num_epoch):\n",
        "    # 예측값\n",
        "    y_hat = w1 * x1 + w2 * x2 + w3 * x3 + b\n",
        "\n",
        "    error = ((y_hat - y)**2).mean()\n",
        "    if error < 0.00001:\n",
        "        break\n",
        "    \n",
        "    # 미분값 적용 (Gradient)\n",
        "    w1 = w1 - learning_rate * ((y_hat - y) * x1).mean()\n",
        "    w2 = w2 - learning_rate * ((y_hat - y) * x2).mean()\n",
        "    w3 = w3 - learning_rate * ((y_hat - y) * x3).mean()\n",
        "    \n",
        "    w1_grad.append(w1)\n",
        "    w2_grad.append(w2)\n",
        "    w3_grad.append(w3)\n",
        "    \n",
        "    b = b - learning_rate * (y_hat - y).mean()\n",
        "    \n",
        "    errors.append(error)\n",
        "    \n",
        "    if epoch % 5 == 0:\n",
        "        print(\"{0:2} w1 = {1:.5f}, w2 = {2:.5f}, w3 = {3:.5f}, b = {4:.5f} error = {5:.5f}\".format(epoch, w1, w2, w3, b, error))\n",
        "\n",
        "print(\"----\" * 15)\n",
        "print(\"{0:2} w1 = {1:.1f}, w2 = {2:.1f}, w3 = {3:.1f}, b = {4:.1f} error = {5:.5f}\".format(epoch, w1, w2, w3, b, error))"
      ]
    },
    {
      "cell_type": "code",
      "execution_count": 20,
      "metadata": {
        "colab": {
          "base_uri": "https://localhost:8080/",
          "height": 444
        },
        "id": "BoIzU-K-qbWZ",
        "outputId": "6346d000-46ff-4d91-e211-ce3e25803c81"
      },
      "outputs": [
        {
          "output_type": "display_data",
          "data": {
            "text/plain": [
              "<Figure size 720x504 with 1 Axes>"
            ],
            "image/png": "[encoded data removed]"
          },
          "metadata": {
            "needs_background": "light"
          }
        }
      ],
      "source": [
        "plt.figure(figsize=(10, 7))\n",
        "plt.plot(errors)\n",
        "plt.title('Errors')\n",
        "plt.show()"
      ]
    },
    {
      "cell_type": "markdown",
      "metadata": {
        "id": "zq85a7Asw5ZG"
      },
      "source": [
        "## 가중치 (W1, W2, W3) 값들의 변화량 시각화"
      ]
    },
    {
      "cell_type": "markdown",
      "metadata": {
        "id": "DcDPnN3JUqyb"
      },
      "source": [
        "`Epoch`가 지남에 따라 어떻게 가중치들이 업데이트 되는지 시각화 해 봅니다."
      ]
    },
    {
      "cell_type": "code",
      "execution_count": 21,
      "metadata": {
        "colab": {
          "base_uri": "https://localhost:8080/",
          "height": 446
        },
        "id": "n4vdXxMcwQaq",
        "outputId": "a6cad19d-d25d-4476-cf48-eebc46d2bb6d"
      },
      "outputs": [
        {
          "output_type": "display_data",
          "data": {
            "text/plain": [
              "<Figure size 720x504 with 1 Axes>"
            ],
            "image/png": "[encoded data removed]"
          },
          "metadata": {
            "needs_background": "light"
          }
        }
      ],
      "source": [
        "plt.figure(figsize=(10, 7))\n",
        "\n",
        "plt.hlines(y=0.3, xmin=0, xmax=len(w1_grad), color='r')\n",
        "plt.plot(w1_grad, color='g')\n",
        "plt.ylim(0, 1)\n",
        "plt.title('W1', fontsize=16)\n",
        "plt.legend(['W1 Change', 'W1'])\n",
        "plt.show()"
      ]
    },
    {
      "cell_type": "code",
      "execution_count": 22,
      "metadata": {
        "colab": {
          "base_uri": "https://localhost:8080/",
          "height": 446
        },
        "id": "YL1YMw8xwfO2",
        "outputId": "bb3d2cdc-9627-4136-a271-6dcad6488721"
      },
      "outputs": [
        {
          "output_type": "display_data",
          "data": {
            "text/plain": [
              "<Figure size 720x504 with 1 Axes>"
            ],
            "image/png": "[encoded data removed]"
          },
          "metadata": {
            "needs_background": "light"
          }
        }
      ],
      "source": [
        "plt.figure(figsize=(10, 7))\n",
        "\n",
        "plt.hlines(y=0.5, xmin=0, xmax=len(w2_grad), color='r')\n",
        "plt.plot(w2_grad, color='g')\n",
        "plt.ylim(0, 1)\n",
        "plt.title('W2', fontsize=16)\n",
        "plt.legend(['W2 Change', 'W2'])\n",
        "plt.show()"
      ]
    },
    {
      "cell_type": "code",
      "execution_count": 23,
      "metadata": {
        "colab": {
          "base_uri": "https://localhost:8080/",
          "height": 446
        },
        "id": "AIJgOedAx1E1",
        "outputId": "1c5f6f20-8eb3-44c6-ca0f-5782dbba63ec"
      },
      "outputs": [
        {
          "output_type": "display_data",
          "data": {
            "text/plain": [
              "<Figure size 720x504 with 1 Axes>"
            ],
            "image/png": "[encoded data removed]"
          },
          "metadata": {
            "needs_background": "light"
          }
        }
      ],
      "source": [
        "plt.figure(figsize=(10, 7))\n",
        "\n",
        "plt.hlines(y=0.7, xmin=0, xmax=len(w3_grad), color='r')\n",
        "plt.plot(w3_grad, color='g')\n",
        "plt.ylim(0, 1)\n",
        "plt.title('W3', fontsize=16)\n",
        "plt.legend(['W3 Change', 'W3'])\n",
        "plt.show()"
      ]
    }
  ],
  "metadata": {
    "colab": {
      "collapsed_sections": [],
      "name": "02-경사하강법-(Gradient-Descent)-(실습)",
      "provenance": []
    },
    "kernelspec": {
      "display_name": "Python 3",
      "language": "python",
      "name": "python3"
    },
    "language_info": {
      "codemirror_mode": {
        "name": "ipython",
        "version": 3
      },
      "file_extension": ".py",
      "mimetype": "text/x-python",
      "name": "python",
      "nbconvert_exporter": "python",
      "pygments_lexer": "ipython3",
      "version": "3.7.10"
    }
  },
  "nbformat": 4,
  "nbformat_minor": 0
}