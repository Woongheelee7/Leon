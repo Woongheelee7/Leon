{
  "nbformat": 4,
  "nbformat_minor": 0,
  "metadata": {
    "colab": {
      "provenance": [],
      "authorship_tag": "ABX9TyNC9X+S40VIXwjnbBuXr48a",
      "include_colab_link": true
    },
    "kernelspec": {
      "name": "python3",
      "display_name": "Python 3"
    },
    "language_info": {
      "name": "python"
    }
  },
  "cells": [
    {
      "cell_type": "markdown",
      "metadata": {
        "id": "view-in-github",
        "colab_type": "text"
      },
      "source": [
        "<a href=\"https://colab.research.google.com/github/Woongheelee7/Leon/blob/main/HW5_1.ipynb\" target=\"_parent\"><img src=\"https://colab.research.google.com/assets/colab-badge.svg\" alt=\"Open In Colab\"/></a>"
      ]
    },
    {
      "cell_type": "code",
      "execution_count": 153,
      "metadata": {
        "id": "hWkkV3VZo6Dd"
      },
      "outputs": [],
      "source": [
        "%matplotlib inline\n",
        "import matplotlib.pyplot as plt\n",
        "import numpy as np\n",
        "import pandas as pd\n",
        "import seaborn as sns\n",
        "np.set_printoptions(threshold=np.inf, linewidth=np.inf) \n",
        "def partial_sum(arr,i):\n",
        "    partial_sum=0\n",
        "    for k in range(i+1):\n",
        "      partial_sum+=arr[k]\n",
        "      \n",
        "    return partial_sum \n",
        "def gini_delta(arr,k):\n",
        "    n=len(arr)\n",
        "    sum=arr.sum()\n",
        "    ratio_1=(k+1)/n\n",
        "    ratio_2=1-ratio_1\n",
        "    partial=partial_sum(arr,k)\n",
        "    pro1=(partial/(k+1))\n",
        "    pro1_1=1-pro1\n",
        "    Rpro1=1-pro1**2-pro1_1**2\n",
        "\n",
        "\n",
        "    pro2=((sum-partial)/(n-k-1))\n",
        "    pro2_2=1-pro2\n",
        "    Rpro2=1-pro2**2-pro2_2**2\n",
        "    gini_delta=gini_index-ratio_1*Rpro1-ratio_2*Rpro2\n",
        "    return gini_delta"
      ]
    },
    {
      "cell_type": "code",
      "source": [
        "def error_rate(p: float):\n",
        "    \"\"\"Classification error rate for a given binary class ratio\"\"\"\n",
        "    return p if p < 0.5 else 1 - p\n",
        "\n",
        "def gini_index(p: float):\n",
        "    \"\"\"Gini index for a given binary class ratio.\"\"\"\n",
        "    return 2 * p * (1 - p)\n",
        "\n",
        "def entropy(p: float):\n",
        "    \"\"\"Entropy for a given binary class ratio, normalized by ln(2)\"\"\"\n",
        "    return -(p * np.log(p + 1e-16) + (1 - p) * np.log(1 - p + 1e-16)) / (np.log(2) / 0.5)\n",
        "\n"
      ],
      "metadata": {
        "id": "14091GQyF9yU"
      },
      "execution_count": 154,
      "outputs": []
    },
    {
      "cell_type": "code",
      "source": [
        "cancer = pd.read_csv(\"https://raw.githubusercontent.com/changyaochen/MECE4520/master/data/breast_cancer.csv\")\n",
        "cancer[\"label\"] = cancer[\"diagnosis\"].apply(lambda x: 0 if x == \"B\" else 1)\n",
        "cancer_label=cancer[\"label\"]\n",
        "cancer_texture=cancer[\"texture_mean\"]\n",
        "cancer_sub=pd.concat([cancer_label,cancer_texture],axis=1)\n",
        "cancer_sorted=cancer_sub.sort_values(by='texture_mean')\n",
        "\n",
        "gini_index=1-(cancer_label.sum()/len(cancer.label))**2-((len(cancer_label)-cancer.label.sum())/len(cancer_label))**2\n",
        "gini_index\n",
        "\n"
      ],
      "metadata": {
        "colab": {
          "base_uri": "https://localhost:8080/"
        },
        "id": "ZdQbRTsiF_oK",
        "outputId": "8c7ed971-466f-491e-ff47-2f08df902421"
      },
      "execution_count": 155,
      "outputs": [
        {
          "output_type": "execute_result",
          "data": {
            "text/plain": [
              "0.46753006075469244"
            ]
          },
          "metadata": {},
          "execution_count": 155
        }
      ]
    },
    {
      "cell_type": "code",
      "source": [
        "label=np.array(cancer_sorted['label'])\n",
        "texture_mean=np.array(cancer_sorted['texture_mean'])\n",
        "delta=[]\n",
        "delta.append(i)\n",
        "for i in range(len(label)):\n",
        "    G= gini_delta(label,i)\n",
        "    delta.append(G)\n",
        "delta[0]=0\n",
        "delta.index(max(delta))\n"
      ],
      "metadata": {
        "colab": {
          "base_uri": "https://localhost:8080/"
        },
        "id": "0VDz7sJz5A1F",
        "outputId": "422fb269-956d-4ff3-b2aa-81128b3e77fa"
      },
      "execution_count": 162,
      "outputs": [
        {
          "output_type": "stream",
          "name": "stderr",
          "text": [
            "/usr/local/lib/python3.7/dist-packages/ipykernel_launcher.py:24: RuntimeWarning: invalid value encountered in long_scalars\n"
          ]
        },
        {
          "output_type": "execute_result",
          "data": {
            "text/plain": [
              "316"
            ]
          },
          "metadata": {},
          "execution_count": 162
        }
      ]
    },
    {
      "cell_type": "code",
      "source": [
        "from sklearn import tree\n",
        "\n",
        "dt_model = tree.DecisionTreeClassifier(\n",
        "    criterion=\"gini\",\n",
        "    max_depth=3,\n",
        ")\n",
        "features = [\n",
        "    # \"radius_mean\",\n",
        "    \"texture_mean\"\n",
        "    # \"perimeter_mean\",\n",
        "    # \"area_mean\",\n",
        "    # \"smoothness_mean\",\n",
        "    # \"compactness_mean\",\n",
        "    # \"concavity_mean\",\n",
        "    # \"concave_mean\",\n",
        "    # \"symmetry_mean\",\n",
        "    # \"fractal_mean\",\n",
        "    # \"radius_se\",\n",
        "    # \"texture_se\",\n",
        "    # \"perimeter_se\",\n",
        "    # \"area_se\",\n",
        "    # \"smoothness_se\",\n",
        "    # \"compactness_se\",\n",
        "    # \"concavity_se\",\n",
        "    # \"concave_se\",\n",
        "    # \"symmetry_se\",\n",
        "    # \"fractal_se\",\n",
        "    # \"radius_extreme\",\n",
        "    # \"texture_extreme\",\n",
        "    # \"perimeter_extreme\",\n",
        "    # \"area_extreme\",\n",
        "    # \"smoothness_extreme\",\n",
        "    # \"compactness_extreme\",\n",
        "    # \"concavity_extreme\",\n",
        "    # \"concave_extreme\",\n",
        "    # \"symmetry_extreme\",\n",
        "    # \"fractal_extreme\",\n",
        "]\n",
        "label = \"label\"\n",
        "dt_model.fit(X=cancer[features], y=cancer[label])"
      ],
      "metadata": {
        "colab": {
          "base_uri": "https://localhost:8080/"
        },
        "id": "C2ffTgNWOJcG",
        "outputId": "0d6f90bb-e3b2-4fce-e515-5a3a0d85d1ad"
      },
      "execution_count": 9,
      "outputs": [
        {
          "output_type": "execute_result",
          "data": {
            "text/plain": [
              "DecisionTreeClassifier(max_depth=3)"
            ]
          },
          "metadata": {},
          "execution_count": 9
        }
      ]
    },
    {
      "cell_type": "code",
      "source": [
        "import graphviz\n",
        "\n",
        "dot_data = tree.export_graphviz(\n",
        "    decision_tree=dt_model, \n",
        "    out_file=None, \n",
        "    feature_names=features,  \n",
        "    class_names=[\"0\", \"1\"],  \n",
        "    filled=True, \n",
        "    rounded=True,  \n",
        "    special_characters=True,\n",
        "    max_depth=3,\n",
        ")  \n",
        "graph = graphviz.Source(dot_data)  \n",
        "graph.render(\"cancer_tree\")\n",
        "graph"
      ],
      "metadata": {
        "colab": {
          "base_uri": "https://localhost:8080/",
          "height": 599
        },
        "id": "kKSKJX0BOWHh",
        "outputId": "fe7ab879-96d0-4df8-a7ab-0d44ef82aedd"
      },
      "execution_count": 10,
      "outputs": [
        {
          "output_type": "execute_result",
          "data": {
            "text/plain": [
              "<graphviz.files.Source at 0x7f011b79a690>"
            ],
            "image/svg+xml": "<?xml version=\"1.0\" encoding=\"UTF-8\" standalone=\"no\"?>\n<!DOCTYPE svg PUBLIC \"-//W3C//DTD SVG 1.1//EN\"\n \"http://www.w3.org/Graphics/SVG/1.1/DTD/svg11.dtd\">\n<!-- Generated by graphviz version 2.40.1 (20161225.0304)\n -->\n<!-- Title: Tree Pages: 1 -->\n<svg width=\"1037pt\" height=\"433pt\"\n viewBox=\"0.00 0.00 1037.00 433.00\" xmlns=\"http://www.w3.org/2000/svg\" xmlns:xlink=\"http://www.w3.org/1999/xlink\">\n<g id=\"graph0\" class=\"graph\" transform=\"scale(1 1) rotate(0) translate(4 429)\">\n<title>Tree</title>\n<polygon fill=\"#ffffff\" stroke=\"transparent\" points=\"-4,4 -4,-429 1033,-429 1033,4 -4,4\"/>\n<!-- 0 -->\n<g id=\"node1\" class=\"node\">\n<title>0</title>\n<path fill=\"#f4ccaf\" stroke=\"#000000\" d=\"M566.5,-425C566.5,-425 432.5,-425 432.5,-425 426.5,-425 420.5,-419 420.5,-413 420.5,-413 420.5,-354 420.5,-354 420.5,-348 426.5,-342 432.5,-342 432.5,-342 566.5,-342 566.5,-342 572.5,-342 578.5,-348 578.5,-354 578.5,-354 578.5,-413 578.5,-413 578.5,-419 572.5,-425 566.5,-425\"/>\n<text text-anchor=\"start\" x=\"428.5\" y=\"-409.8\" font-family=\"Helvetica,sans-Serif\" font-size=\"14.00\" fill=\"#000000\">texture_mean ≤ 19.47</text>\n<text text-anchor=\"start\" x=\"461.5\" y=\"-394.8\" font-family=\"Helvetica,sans-Serif\" font-size=\"14.00\" fill=\"#000000\">gini = 0.468</text>\n<text text-anchor=\"start\" x=\"451.5\" y=\"-379.8\" font-family=\"Helvetica,sans-Serif\" font-size=\"14.00\" fill=\"#000000\">samples = 569</text>\n<text text-anchor=\"start\" x=\"441.5\" y=\"-364.8\" font-family=\"Helvetica,sans-Serif\" font-size=\"14.00\" fill=\"#000000\">value = [357, 212]</text>\n<text text-anchor=\"start\" x=\"470.5\" y=\"-349.8\" font-family=\"Helvetica,sans-Serif\" font-size=\"14.00\" fill=\"#000000\">class = 0</text>\n</g>\n<!-- 1 -->\n<g id=\"node2\" class=\"node\">\n<title>1</title>\n<path fill=\"#ea9c63\" stroke=\"#000000\" d=\"M453.5,-306C453.5,-306 311.5,-306 311.5,-306 305.5,-306 299.5,-300 299.5,-294 299.5,-294 299.5,-235 299.5,-235 299.5,-229 305.5,-223 311.5,-223 311.5,-223 453.5,-223 453.5,-223 459.5,-223 465.5,-229 465.5,-235 465.5,-235 465.5,-294 465.5,-294 465.5,-300 459.5,-306 453.5,-306\"/>\n<text text-anchor=\"start\" x=\"307.5\" y=\"-290.8\" font-family=\"Helvetica,sans-Serif\" font-size=\"14.00\" fill=\"#000000\">texture_mean ≤ 16.395</text>\n<text text-anchor=\"start\" x=\"344.5\" y=\"-275.8\" font-family=\"Helvetica,sans-Serif\" font-size=\"14.00\" fill=\"#000000\">gini = 0.288</text>\n<text text-anchor=\"start\" x=\"334.5\" y=\"-260.8\" font-family=\"Helvetica,sans-Serif\" font-size=\"14.00\" fill=\"#000000\">samples = 316</text>\n<text text-anchor=\"start\" x=\"328.5\" y=\"-245.8\" font-family=\"Helvetica,sans-Serif\" font-size=\"14.00\" fill=\"#000000\">value = [261, 55]</text>\n<text text-anchor=\"start\" x=\"353.5\" y=\"-230.8\" font-family=\"Helvetica,sans-Serif\" font-size=\"14.00\" fill=\"#000000\">class = 0</text>\n</g>\n<!-- 0&#45;&gt;1 -->\n<g id=\"edge1\" class=\"edge\">\n<title>0&#45;&gt;1</title>\n<path fill=\"none\" stroke=\"#000000\" d=\"M458.5791,-341.8796C449.547,-332.6931 439.8987,-322.8798 430.6112,-313.4336\"/>\n<polygon fill=\"#000000\" stroke=\"#000000\" points=\"433.1023,-310.975 423.5956,-306.2981 428.1107,-315.8827 433.1023,-310.975\"/>\n<text text-anchor=\"middle\" x=\"423.3837\" y=\"-327.5972\" font-family=\"Helvetica,sans-Serif\" font-size=\"14.00\" fill=\"#000000\">True</text>\n</g>\n<!-- 8 -->\n<g id=\"node9\" class=\"node\">\n<title>8</title>\n<path fill=\"#b2d9f5\" stroke=\"#000000\" d=\"M698.5,-306C698.5,-306 564.5,-306 564.5,-306 558.5,-306 552.5,-300 552.5,-294 552.5,-294 552.5,-235 552.5,-235 552.5,-229 558.5,-223 564.5,-223 564.5,-223 698.5,-223 698.5,-223 704.5,-223 710.5,-229 710.5,-235 710.5,-235 710.5,-294 710.5,-294 710.5,-300 704.5,-306 698.5,-306\"/>\n<text text-anchor=\"start\" x=\"560.5\" y=\"-290.8\" font-family=\"Helvetica,sans-Serif\" font-size=\"14.00\" fill=\"#000000\">texture_mean ≤ 26.98</text>\n<text text-anchor=\"start\" x=\"593.5\" y=\"-275.8\" font-family=\"Helvetica,sans-Serif\" font-size=\"14.00\" fill=\"#000000\">gini = 0.471</text>\n<text text-anchor=\"start\" x=\"583.5\" y=\"-260.8\" font-family=\"Helvetica,sans-Serif\" font-size=\"14.00\" fill=\"#000000\">samples = 253</text>\n<text text-anchor=\"start\" x=\"577.5\" y=\"-245.8\" font-family=\"Helvetica,sans-Serif\" font-size=\"14.00\" fill=\"#000000\">value = [96, 157]</text>\n<text text-anchor=\"start\" x=\"602.5\" y=\"-230.8\" font-family=\"Helvetica,sans-Serif\" font-size=\"14.00\" fill=\"#000000\">class = 1</text>\n</g>\n<!-- 0&#45;&gt;8 -->\n<g id=\"edge8\" class=\"edge\">\n<title>0&#45;&gt;8</title>\n<path fill=\"none\" stroke=\"#000000\" d=\"M545.6672,-341.8796C555.9571,-332.6031 566.956,-322.6874 577.5287,-313.1559\"/>\n<polygon fill=\"#000000\" stroke=\"#000000\" points=\"580.0519,-315.5935 585.1358,-306.2981 575.3648,-310.3944 580.0519,-315.5935\"/>\n<text text-anchor=\"middle\" x=\"583.8427\" y=\"-327.5646\" font-family=\"Helvetica,sans-Serif\" font-size=\"14.00\" fill=\"#000000\">False</text>\n</g>\n<!-- 2 -->\n<g id=\"node3\" class=\"node\">\n<title>2</title>\n<path fill=\"#e78c4a\" stroke=\"#000000\" d=\"M246.5,-187C246.5,-187 112.5,-187 112.5,-187 106.5,-187 100.5,-181 100.5,-175 100.5,-175 100.5,-116 100.5,-116 100.5,-110 106.5,-104 112.5,-104 112.5,-104 246.5,-104 246.5,-104 252.5,-104 258.5,-110 258.5,-116 258.5,-116 258.5,-175 258.5,-175 258.5,-181 252.5,-187 246.5,-187\"/>\n<text text-anchor=\"start\" x=\"108.5\" y=\"-171.8\" font-family=\"Helvetica,sans-Serif\" font-size=\"14.00\" fill=\"#000000\">texture_mean ≤ 10.55</text>\n<text text-anchor=\"start\" x=\"141.5\" y=\"-156.8\" font-family=\"Helvetica,sans-Serif\" font-size=\"14.00\" fill=\"#000000\">gini = 0.145</text>\n<text text-anchor=\"start\" x=\"131.5\" y=\"-141.8\" font-family=\"Helvetica,sans-Serif\" font-size=\"14.00\" fill=\"#000000\">samples = 153</text>\n<text text-anchor=\"start\" x=\"125.5\" y=\"-126.8\" font-family=\"Helvetica,sans-Serif\" font-size=\"14.00\" fill=\"#000000\">value = [141, 12]</text>\n<text text-anchor=\"start\" x=\"150.5\" y=\"-111.8\" font-family=\"Helvetica,sans-Serif\" font-size=\"14.00\" fill=\"#000000\">class = 0</text>\n</g>\n<!-- 1&#45;&gt;2 -->\n<g id=\"edge2\" class=\"edge\">\n<title>1&#45;&gt;2</title>\n<path fill=\"none\" stroke=\"#000000\" d=\"M311.5005,-222.8796C294.6566,-213.0056 276.5774,-202.4075 259.3683,-192.3193\"/>\n<polygon fill=\"#000000\" stroke=\"#000000\" points=\"260.8565,-189.1347 250.4595,-187.0969 257.3164,-195.1736 260.8565,-189.1347\"/>\n</g>\n<!-- 5 -->\n<g id=\"node6\" class=\"node\">\n<title>5</title>\n<path fill=\"#eeae80\" stroke=\"#000000\" d=\"M449.5,-187C449.5,-187 315.5,-187 315.5,-187 309.5,-187 303.5,-181 303.5,-175 303.5,-175 303.5,-116 303.5,-116 303.5,-110 309.5,-104 315.5,-104 315.5,-104 449.5,-104 449.5,-104 455.5,-104 461.5,-110 461.5,-116 461.5,-116 461.5,-175 461.5,-175 461.5,-181 455.5,-187 449.5,-187\"/>\n<text text-anchor=\"start\" x=\"311.5\" y=\"-171.8\" font-family=\"Helvetica,sans-Serif\" font-size=\"14.00\" fill=\"#000000\">texture_mean ≤ 18.46</text>\n<text text-anchor=\"start\" x=\"344.5\" y=\"-156.8\" font-family=\"Helvetica,sans-Serif\" font-size=\"14.00\" fill=\"#000000\">gini = 0.388</text>\n<text text-anchor=\"start\" x=\"334.5\" y=\"-141.8\" font-family=\"Helvetica,sans-Serif\" font-size=\"14.00\" fill=\"#000000\">samples = 163</text>\n<text text-anchor=\"start\" x=\"328.5\" y=\"-126.8\" font-family=\"Helvetica,sans-Serif\" font-size=\"14.00\" fill=\"#000000\">value = [120, 43]</text>\n<text text-anchor=\"start\" x=\"353.5\" y=\"-111.8\" font-family=\"Helvetica,sans-Serif\" font-size=\"14.00\" fill=\"#000000\">class = 0</text>\n</g>\n<!-- 1&#45;&gt;5 -->\n<g id=\"edge5\" class=\"edge\">\n<title>1&#45;&gt;5</title>\n<path fill=\"none\" stroke=\"#000000\" d=\"M382.5,-222.8796C382.5,-214.6838 382.5,-205.9891 382.5,-197.5013\"/>\n<polygon fill=\"#000000\" stroke=\"#000000\" points=\"386.0001,-197.298 382.5,-187.2981 379.0001,-197.2981 386.0001,-197.298\"/>\n</g>\n<!-- 3 -->\n<g id=\"node4\" class=\"node\">\n<title>3</title>\n<path fill=\"#ffffff\" stroke=\"#000000\" d=\"M87,-68C87,-68 12,-68 12,-68 6,-68 0,-62 0,-56 0,-56 0,-12 0,-12 0,-6 6,0 12,0 12,0 87,0 87,0 93,0 99,-6 99,-12 99,-12 99,-56 99,-56 99,-62 93,-68 87,-68\"/>\n<text text-anchor=\"start\" x=\"20\" y=\"-52.8\" font-family=\"Helvetica,sans-Serif\" font-size=\"14.00\" fill=\"#000000\">gini = 0.5</text>\n<text text-anchor=\"start\" x=\"10\" y=\"-37.8\" font-family=\"Helvetica,sans-Serif\" font-size=\"14.00\" fill=\"#000000\">samples = 2</text>\n<text text-anchor=\"start\" x=\"8\" y=\"-22.8\" font-family=\"Helvetica,sans-Serif\" font-size=\"14.00\" fill=\"#000000\">value = [1, 1]</text>\n<text text-anchor=\"start\" x=\"20.5\" y=\"-7.8\" font-family=\"Helvetica,sans-Serif\" font-size=\"14.00\" fill=\"#000000\">class = 0</text>\n</g>\n<!-- 2&#45;&gt;3 -->\n<g id=\"edge3\" class=\"edge\">\n<title>2&#45;&gt;3</title>\n<path fill=\"none\" stroke=\"#000000\" d=\"M131.0928,-103.9815C120.0558,-94.5151 108.3347,-84.462 97.3223,-75.0168\"/>\n<polygon fill=\"#000000\" stroke=\"#000000\" points=\"99.3178,-72.1173 89.4487,-68.2637 94.7606,-77.4307 99.3178,-72.1173\"/>\n</g>\n<!-- 4 -->\n<g id=\"node5\" class=\"node\">\n<title>4</title>\n<path fill=\"#e78b49\" stroke=\"#000000\" d=\"M229.5,-68C229.5,-68 129.5,-68 129.5,-68 123.5,-68 117.5,-62 117.5,-56 117.5,-56 117.5,-12 117.5,-12 117.5,-6 123.5,0 129.5,0 129.5,0 229.5,0 229.5,0 235.5,0 241.5,-6 241.5,-12 241.5,-12 241.5,-56 241.5,-56 241.5,-62 235.5,-68 229.5,-68\"/>\n<text text-anchor=\"start\" x=\"141.5\" y=\"-52.8\" font-family=\"Helvetica,sans-Serif\" font-size=\"14.00\" fill=\"#000000\">gini = 0.135</text>\n<text text-anchor=\"start\" x=\"131.5\" y=\"-37.8\" font-family=\"Helvetica,sans-Serif\" font-size=\"14.00\" fill=\"#000000\">samples = 151</text>\n<text text-anchor=\"start\" x=\"125.5\" y=\"-22.8\" font-family=\"Helvetica,sans-Serif\" font-size=\"14.00\" fill=\"#000000\">value = [140, 11]</text>\n<text text-anchor=\"start\" x=\"150.5\" y=\"-7.8\" font-family=\"Helvetica,sans-Serif\" font-size=\"14.00\" fill=\"#000000\">class = 0</text>\n</g>\n<!-- 2&#45;&gt;4 -->\n<g id=\"edge4\" class=\"edge\">\n<title>2&#45;&gt;4</title>\n<path fill=\"none\" stroke=\"#000000\" d=\"M179.5,-103.9815C179.5,-95.618 179.5,-86.7965 179.5,-78.3409\"/>\n<polygon fill=\"#000000\" stroke=\"#000000\" points=\"183.0001,-78.2636 179.5,-68.2637 176.0001,-78.2637 183.0001,-78.2636\"/>\n</g>\n<!-- 6 -->\n<g id=\"node7\" class=\"node\">\n<title>6</title>\n<path fill=\"#eca36f\" stroke=\"#000000\" d=\"M363.5,-68C363.5,-68 271.5,-68 271.5,-68 265.5,-68 259.5,-62 259.5,-56 259.5,-56 259.5,-12 259.5,-12 259.5,-6 265.5,0 271.5,0 271.5,0 363.5,0 363.5,0 369.5,0 375.5,-6 375.5,-12 375.5,-12 375.5,-56 375.5,-56 375.5,-62 369.5,-68 363.5,-68\"/>\n<text text-anchor=\"start\" x=\"279.5\" y=\"-52.8\" font-family=\"Helvetica,sans-Serif\" font-size=\"14.00\" fill=\"#000000\">gini = 0.335</text>\n<text text-anchor=\"start\" x=\"269.5\" y=\"-37.8\" font-family=\"Helvetica,sans-Serif\" font-size=\"14.00\" fill=\"#000000\">samples = 108</text>\n<text text-anchor=\"start\" x=\"267.5\" y=\"-22.8\" font-family=\"Helvetica,sans-Serif\" font-size=\"14.00\" fill=\"#000000\">value = [85, 23]</text>\n<text text-anchor=\"start\" x=\"288.5\" y=\"-7.8\" font-family=\"Helvetica,sans-Serif\" font-size=\"14.00\" fill=\"#000000\">class = 0</text>\n</g>\n<!-- 5&#45;&gt;6 -->\n<g id=\"edge6\" class=\"edge\">\n<title>5&#45;&gt;6</title>\n<path fill=\"none\" stroke=\"#000000\" d=\"M358.2964,-103.9815C353.1529,-95.1585 347.7123,-85.8258 342.5384,-76.9506\"/>\n<polygon fill=\"#000000\" stroke=\"#000000\" points=\"345.5344,-75.1402 337.4743,-68.2637 339.487,-78.6656 345.5344,-75.1402\"/>\n</g>\n<!-- 7 -->\n<g id=\"node8\" class=\"node\">\n<title>7</title>\n<path fill=\"#f4c9aa\" stroke=\"#000000\" d=\"M497.5,-68C497.5,-68 405.5,-68 405.5,-68 399.5,-68 393.5,-62 393.5,-56 393.5,-56 393.5,-12 393.5,-12 393.5,-6 399.5,0 405.5,0 405.5,0 497.5,0 497.5,0 503.5,0 509.5,-6 509.5,-12 509.5,-12 509.5,-56 509.5,-56 509.5,-62 503.5,-68 497.5,-68\"/>\n<text text-anchor=\"start\" x=\"413.5\" y=\"-52.8\" font-family=\"Helvetica,sans-Serif\" font-size=\"14.00\" fill=\"#000000\">gini = 0.463</text>\n<text text-anchor=\"start\" x=\"407.5\" y=\"-37.8\" font-family=\"Helvetica,sans-Serif\" font-size=\"14.00\" fill=\"#000000\">samples = 55</text>\n<text text-anchor=\"start\" x=\"401.5\" y=\"-22.8\" font-family=\"Helvetica,sans-Serif\" font-size=\"14.00\" fill=\"#000000\">value = [35, 20]</text>\n<text text-anchor=\"start\" x=\"422.5\" y=\"-7.8\" font-family=\"Helvetica,sans-Serif\" font-size=\"14.00\" fill=\"#000000\">class = 0</text>\n</g>\n<!-- 5&#45;&gt;7 -->\n<g id=\"edge7\" class=\"edge\">\n<title>5&#45;&gt;7</title>\n<path fill=\"none\" stroke=\"#000000\" d=\"M408.1931,-103.9815C413.6531,-95.1585 419.4284,-85.8258 424.9207,-76.9506\"/>\n<polygon fill=\"#000000\" stroke=\"#000000\" points=\"428.0104,-78.609 430.2965,-68.2637 422.058,-74.9254 428.0104,-78.609\"/>\n</g>\n<!-- 9 -->\n<g id=\"node10\" class=\"node\">\n<title>9</title>\n<path fill=\"#a6d3f3\" stroke=\"#000000\" d=\"M702.5,-187C702.5,-187 560.5,-187 560.5,-187 554.5,-187 548.5,-181 548.5,-175 548.5,-175 548.5,-116 548.5,-116 548.5,-110 554.5,-104 560.5,-104 560.5,-104 702.5,-104 702.5,-104 708.5,-104 714.5,-110 714.5,-116 714.5,-116 714.5,-175 714.5,-175 714.5,-181 708.5,-187 702.5,-187\"/>\n<text text-anchor=\"start\" x=\"556.5\" y=\"-171.8\" font-family=\"Helvetica,sans-Serif\" font-size=\"14.00\" fill=\"#000000\">texture_mean ≤ 25.525</text>\n<text text-anchor=\"start\" x=\"593.5\" y=\"-156.8\" font-family=\"Helvetica,sans-Serif\" font-size=\"14.00\" fill=\"#000000\">gini = 0.458</text>\n<text text-anchor=\"start\" x=\"583.5\" y=\"-141.8\" font-family=\"Helvetica,sans-Serif\" font-size=\"14.00\" fill=\"#000000\">samples = 220</text>\n<text text-anchor=\"start\" x=\"577.5\" y=\"-126.8\" font-family=\"Helvetica,sans-Serif\" font-size=\"14.00\" fill=\"#000000\">value = [78, 142]</text>\n<text text-anchor=\"start\" x=\"602.5\" y=\"-111.8\" font-family=\"Helvetica,sans-Serif\" font-size=\"14.00\" fill=\"#000000\">class = 1</text>\n</g>\n<!-- 8&#45;&gt;9 -->\n<g id=\"edge9\" class=\"edge\">\n<title>8&#45;&gt;9</title>\n<path fill=\"none\" stroke=\"#000000\" d=\"M631.5,-222.8796C631.5,-214.6838 631.5,-205.9891 631.5,-197.5013\"/>\n<polygon fill=\"#000000\" stroke=\"#000000\" points=\"635.0001,-197.298 631.5,-187.2981 628.0001,-197.2981 635.0001,-197.298\"/>\n</g>\n<!-- 12 -->\n<g id=\"node13\" class=\"node\">\n<title>12</title>\n<path fill=\"#fbeade\" stroke=\"#000000\" d=\"M920.5,-187C920.5,-187 786.5,-187 786.5,-187 780.5,-187 774.5,-181 774.5,-175 774.5,-175 774.5,-116 774.5,-116 774.5,-110 780.5,-104 786.5,-104 786.5,-104 920.5,-104 920.5,-104 926.5,-104 932.5,-110 932.5,-116 932.5,-116 932.5,-175 932.5,-175 932.5,-181 926.5,-187 920.5,-187\"/>\n<text text-anchor=\"start\" x=\"782.5\" y=\"-171.8\" font-family=\"Helvetica,sans-Serif\" font-size=\"14.00\" fill=\"#000000\">texture_mean ≤ 30.92</text>\n<text text-anchor=\"start\" x=\"815.5\" y=\"-156.8\" font-family=\"Helvetica,sans-Serif\" font-size=\"14.00\" fill=\"#000000\">gini = 0.496</text>\n<text text-anchor=\"start\" x=\"809.5\" y=\"-141.8\" font-family=\"Helvetica,sans-Serif\" font-size=\"14.00\" fill=\"#000000\">samples = 33</text>\n<text text-anchor=\"start\" x=\"803.5\" y=\"-126.8\" font-family=\"Helvetica,sans-Serif\" font-size=\"14.00\" fill=\"#000000\">value = [18, 15]</text>\n<text text-anchor=\"start\" x=\"824.5\" y=\"-111.8\" font-family=\"Helvetica,sans-Serif\" font-size=\"14.00\" fill=\"#000000\">class = 0</text>\n</g>\n<!-- 8&#45;&gt;12 -->\n<g id=\"edge12\" class=\"edge\">\n<title>8&#45;&gt;12</title>\n<path fill=\"none\" stroke=\"#000000\" d=\"M709.1448,-222.8796C727.8186,-212.8697 747.8809,-202.1156 766.9328,-191.9031\"/>\n<polygon fill=\"#000000\" stroke=\"#000000\" points=\"768.7389,-194.9062 775.899,-187.0969 765.4318,-188.7366 768.7389,-194.9062\"/>\n</g>\n<!-- 10 -->\n<g id=\"node11\" class=\"node\">\n<title>10</title>\n<path fill=\"#afd7f4\" stroke=\"#000000\" d=\"M639.5,-68C639.5,-68 539.5,-68 539.5,-68 533.5,-68 527.5,-62 527.5,-56 527.5,-56 527.5,-12 527.5,-12 527.5,-6 533.5,0 539.5,0 539.5,0 639.5,0 639.5,0 645.5,0 651.5,-6 651.5,-12 651.5,-12 651.5,-56 651.5,-56 651.5,-62 645.5,-68 639.5,-68\"/>\n<text text-anchor=\"start\" x=\"551.5\" y=\"-52.8\" font-family=\"Helvetica,sans-Serif\" font-size=\"14.00\" fill=\"#000000\">gini = 0.468</text>\n<text text-anchor=\"start\" x=\"541.5\" y=\"-37.8\" font-family=\"Helvetica,sans-Serif\" font-size=\"14.00\" fill=\"#000000\">samples = 209</text>\n<text text-anchor=\"start\" x=\"535.5\" y=\"-22.8\" font-family=\"Helvetica,sans-Serif\" font-size=\"14.00\" fill=\"#000000\">value = [78, 131]</text>\n<text text-anchor=\"start\" x=\"560.5\" y=\"-7.8\" font-family=\"Helvetica,sans-Serif\" font-size=\"14.00\" fill=\"#000000\">class = 1</text>\n</g>\n<!-- 9&#45;&gt;10 -->\n<g id=\"edge10\" class=\"edge\">\n<title>9&#45;&gt;10</title>\n<path fill=\"none\" stroke=\"#000000\" d=\"M615.8608,-103.9815C612.6411,-95.4342 609.2413,-86.4086 605.9926,-77.7839\"/>\n<polygon fill=\"#000000\" stroke=\"#000000\" points=\"609.2069,-76.388 602.4065,-68.2637 602.6562,-78.8556 609.2069,-76.388\"/>\n</g>\n<!-- 11 -->\n<g id=\"node12\" class=\"node\">\n<title>11</title>\n<path fill=\"#399de5\" stroke=\"#000000\" d=\"M765,-68C765,-68 682,-68 682,-68 676,-68 670,-62 670,-56 670,-56 670,-12 670,-12 670,-6 676,0 682,0 682,0 765,0 765,0 771,0 777,-6 777,-12 777,-12 777,-56 777,-56 777,-62 771,-68 765,-68\"/>\n<text text-anchor=\"start\" x=\"694\" y=\"-52.8\" font-family=\"Helvetica,sans-Serif\" font-size=\"14.00\" fill=\"#000000\">gini = 0.0</text>\n<text text-anchor=\"start\" x=\"679.5\" y=\"-37.8\" font-family=\"Helvetica,sans-Serif\" font-size=\"14.00\" fill=\"#000000\">samples = 11</text>\n<text text-anchor=\"start\" x=\"678\" y=\"-22.8\" font-family=\"Helvetica,sans-Serif\" font-size=\"14.00\" fill=\"#000000\">value = [0, 11]</text>\n<text text-anchor=\"start\" x=\"694.5\" y=\"-7.8\" font-family=\"Helvetica,sans-Serif\" font-size=\"14.00\" fill=\"#000000\">class = 1</text>\n</g>\n<!-- 9&#45;&gt;11 -->\n<g id=\"edge11\" class=\"edge\">\n<title>9&#45;&gt;11</title>\n<path fill=\"none\" stroke=\"#000000\" d=\"M665.7574,-103.9815C673.2649,-94.8828 681.2196,-85.242 688.7464,-76.1199\"/>\n<polygon fill=\"#000000\" stroke=\"#000000\" points=\"691.5639,-78.2045 695.2286,-68.2637 686.1646,-73.7495 691.5639,-78.2045\"/>\n</g>\n<!-- 13 -->\n<g id=\"node14\" class=\"node\">\n<title>13</title>\n<path fill=\"#f6d3b9\" stroke=\"#000000\" d=\"M899.5,-68C899.5,-68 807.5,-68 807.5,-68 801.5,-68 795.5,-62 795.5,-56 795.5,-56 795.5,-12 795.5,-12 795.5,-6 801.5,0 807.5,0 807.5,0 899.5,0 899.5,0 905.5,0 911.5,-6 911.5,-12 911.5,-12 911.5,-56 911.5,-56 911.5,-62 905.5,-68 899.5,-68\"/>\n<text text-anchor=\"start\" x=\"815.5\" y=\"-52.8\" font-family=\"Helvetica,sans-Serif\" font-size=\"14.00\" fill=\"#000000\">gini = 0.477</text>\n<text text-anchor=\"start\" x=\"809.5\" y=\"-37.8\" font-family=\"Helvetica,sans-Serif\" font-size=\"14.00\" fill=\"#000000\">samples = 28</text>\n<text text-anchor=\"start\" x=\"803.5\" y=\"-22.8\" font-family=\"Helvetica,sans-Serif\" font-size=\"14.00\" fill=\"#000000\">value = [17, 11]</text>\n<text text-anchor=\"start\" x=\"824.5\" y=\"-7.8\" font-family=\"Helvetica,sans-Serif\" font-size=\"14.00\" fill=\"#000000\">class = 0</text>\n</g>\n<!-- 12&#45;&gt;13 -->\n<g id=\"edge13\" class=\"edge\">\n<title>12&#45;&gt;13</title>\n<path fill=\"none\" stroke=\"#000000\" d=\"M853.5,-103.9815C853.5,-95.618 853.5,-86.7965 853.5,-78.3409\"/>\n<polygon fill=\"#000000\" stroke=\"#000000\" points=\"857.0001,-78.2636 853.5,-68.2637 850.0001,-78.2637 857.0001,-78.2636\"/>\n</g>\n<!-- 14 -->\n<g id=\"node15\" class=\"node\">\n<title>14</title>\n<path fill=\"#6ab6ec\" stroke=\"#000000\" d=\"M1017,-68C1017,-68 942,-68 942,-68 936,-68 930,-62 930,-56 930,-56 930,-12 930,-12 930,-6 936,0 942,0 942,0 1017,0 1017,0 1023,0 1029,-6 1029,-12 1029,-12 1029,-56 1029,-56 1029,-62 1023,-68 1017,-68\"/>\n<text text-anchor=\"start\" x=\"946\" y=\"-52.8\" font-family=\"Helvetica,sans-Serif\" font-size=\"14.00\" fill=\"#000000\">gini = 0.32</text>\n<text text-anchor=\"start\" x=\"940\" y=\"-37.8\" font-family=\"Helvetica,sans-Serif\" font-size=\"14.00\" fill=\"#000000\">samples = 5</text>\n<text text-anchor=\"start\" x=\"938\" y=\"-22.8\" font-family=\"Helvetica,sans-Serif\" font-size=\"14.00\" fill=\"#000000\">value = [1, 4]</text>\n<text text-anchor=\"start\" x=\"950.5\" y=\"-7.8\" font-family=\"Helvetica,sans-Serif\" font-size=\"14.00\" fill=\"#000000\">class = 1</text>\n</g>\n<!-- 12&#45;&gt;14 -->\n<g id=\"edge14\" class=\"edge\">\n<title>12&#45;&gt;14</title>\n<path fill=\"none\" stroke=\"#000000\" d=\"M900.4177,-103.9815C911.1152,-94.5151 922.4756,-84.462 933.1492,-75.0168\"/>\n<polygon fill=\"#000000\" stroke=\"#000000\" points=\"935.6111,-77.5118 940.7805,-68.2637 930.9722,-72.2696 935.6111,-77.5118\"/>\n</g>\n</g>\n</svg>\n"
          },
          "metadata": {},
          "execution_count": 10
        }
      ]
    }
  ]
}