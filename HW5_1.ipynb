{
  "nbformat": 4,
  "nbformat_minor": 0,
  "metadata": {
    "colab": {
      "provenance": [],
      "authorship_tag": "ABX9TyMQMfh3rqiAXhtidGnCnlyB",
      "include_colab_link": true
    },
    "kernelspec": {
      "name": "python3",
      "display_name": "Python 3"
    },
    "language_info": {
      "name": "python"
    }
  },
  "cells": [
    {
      "cell_type": "markdown",
      "metadata": {
        "id": "view-in-github",
        "colab_type": "text"
      },
      "source": [
        "<a href=\"https://colab.research.google.com/github/Woongheelee7/Leon/blob/main/HW5_1.ipynb\" target=\"_parent\"><img src=\"https://colab.research.google.com/assets/colab-badge.svg\" alt=\"Open In Colab\"/></a>"
      ]
    },
    {
      "cell_type": "code",
      "execution_count": 1,
      "metadata": {
        "id": "hWkkV3VZo6Dd"
      },
      "outputs": [],
      "source": [
        "%matplotlib inline\n",
        "import matplotlib.pyplot as plt\n",
        "import numpy as np\n",
        "import pandas as pd\n",
        "import seaborn as sns\n",
        "np.set_printoptions(threshold=np.inf, linewidth=np.inf) "
      ]
    },
    {
      "cell_type": "code",
      "source": [
        "def error_rate(p: float):\n",
        "    \"\"\"Classification error rate for a given binary class ratio\"\"\"\n",
        "    return p if p < 0.5 else 1 - p\n",
        "\n",
        "def gini_index(p: float):\n",
        "    \"\"\"Gini index for a given binary class ratio.\"\"\"\n",
        "    return 2 * p * (1 - p)\n",
        "\n",
        "def entropy(p: float):\n",
        "    \"\"\"Entropy for a given binary class ratio, normalized by ln(2)\"\"\"\n",
        "    return -(p * np.log(p + 1e-16) + (1 - p) * np.log(1 - p + 1e-16)) / (np.log(2) / 0.5)\n",
        "\n"
      ],
      "metadata": {
        "id": "14091GQyF9yU"
      },
      "execution_count": 2,
      "outputs": []
    },
    {
      "cell_type": "code",
      "source": [
        "cancer = pd.read_csv(\"https://raw.githubusercontent.com/changyaochen/MECE4520/master/data/breast_cancer.csv\")\n",
        "cancer[\"label\"] = cancer[\"diagnosis\"].apply(lambda x: 0 if x == \"B\" else 1)\n",
        "cancer_label=cancer[\"label\"]\n",
        "cancer_texture=cancer[\"texture_mean\"]\n",
        "cancer_sub=pd.concat([cancer_label,cancer_texture],axis=1)\n",
        "cancer_sub_sorted=cancer_sub.sort_values(by='texture_mean')\n",
        "cancer_sub_sorted"
      ],
      "metadata": {
        "colab": {
          "base_uri": "https://localhost:8080/",
          "height": 424
        },
        "id": "ZdQbRTsiF_oK",
        "outputId": "db5a0a4f-d2b5-42a6-d4ed-5079cfbf7460"
      },
      "execution_count": 8,
      "outputs": [
        {
          "output_type": "execute_result",
          "data": {
            "text/plain": [
              "     label  texture_mean\n",
              "166      0          9.71\n",
              "0        1         10.38\n",
              "313      0         10.72\n",
              "120      0         10.82\n",
              "123      0         10.89\n",
              "..     ...           ...\n",
              "265      1         31.12\n",
              "219      1         32.47\n",
              "259      1         33.56\n",
              "232      0         33.81\n",
              "239      1         39.28\n",
              "\n",
              "[569 rows x 2 columns]"
            ],
            "text/html": [
              "\n",
              "  <div id=\"df-3864822e-4308-42c1-842b-d3b20c1e578a\">\n",
              "    <div class=\"colab-df-container\">\n",
              "      <div>\n",
              "<style scoped>\n",
              "    .dataframe tbody tr th:only-of-type {\n",
              "        vertical-align: middle;\n",
              "    }\n",
              "\n",
              "    .dataframe tbody tr th {\n",
              "        vertical-align: top;\n",
              "    }\n",
              "\n",
              "    .dataframe thead th {\n",
              "        text-align: right;\n",
              "    }\n",
              "</style>\n",
              "<table border=\"1\" class=\"dataframe\">\n",
              "  <thead>\n",
              "    <tr style=\"text-align: right;\">\n",
              "      <th></th>\n",
              "      <th>label</th>\n",
              "      <th>texture_mean</th>\n",
              "    </tr>\n",
              "  </thead>\n",
              "  <tbody>\n",
              "    <tr>\n",
              "      <th>166</th>\n",
              "      <td>0</td>\n",
              "      <td>9.71</td>\n",
              "    </tr>\n",
              "    <tr>\n",
              "      <th>0</th>\n",
              "      <td>1</td>\n",
              "      <td>10.38</td>\n",
              "    </tr>\n",
              "    <tr>\n",
              "      <th>313</th>\n",
              "      <td>0</td>\n",
              "      <td>10.72</td>\n",
              "    </tr>\n",
              "    <tr>\n",
              "      <th>120</th>\n",
              "      <td>0</td>\n",
              "      <td>10.82</td>\n",
              "    </tr>\n",
              "    <tr>\n",
              "      <th>123</th>\n",
              "      <td>0</td>\n",
              "      <td>10.89</td>\n",
              "    </tr>\n",
              "    <tr>\n",
              "      <th>...</th>\n",
              "      <td>...</td>\n",
              "      <td>...</td>\n",
              "    </tr>\n",
              "    <tr>\n",
              "      <th>265</th>\n",
              "      <td>1</td>\n",
              "      <td>31.12</td>\n",
              "    </tr>\n",
              "    <tr>\n",
              "      <th>219</th>\n",
              "      <td>1</td>\n",
              "      <td>32.47</td>\n",
              "    </tr>\n",
              "    <tr>\n",
              "      <th>259</th>\n",
              "      <td>1</td>\n",
              "      <td>33.56</td>\n",
              "    </tr>\n",
              "    <tr>\n",
              "      <th>232</th>\n",
              "      <td>0</td>\n",
              "      <td>33.81</td>\n",
              "    </tr>\n",
              "    <tr>\n",
              "      <th>239</th>\n",
              "      <td>1</td>\n",
              "      <td>39.28</td>\n",
              "    </tr>\n",
              "  </tbody>\n",
              "</table>\n",
              "<p>569 rows × 2 columns</p>\n",
              "</div>\n",
              "      <button class=\"colab-df-convert\" onclick=\"convertToInteractive('df-3864822e-4308-42c1-842b-d3b20c1e578a')\"\n",
              "              title=\"Convert this dataframe to an interactive table.\"\n",
              "              style=\"display:none;\">\n",
              "        \n",
              "  <svg xmlns=\"http://www.w3.org/2000/svg\" height=\"24px\"viewBox=\"0 0 24 24\"\n",
              "       width=\"24px\">\n",
              "    <path d=\"M0 0h24v24H0V0z\" fill=\"none\"/>\n",
              "    <path d=\"M18.56 5.44l.94 2.06.94-2.06 2.06-.94-2.06-.94-.94-2.06-.94 2.06-2.06.94zm-11 1L8.5 8.5l.94-2.06 2.06-.94-2.06-.94L8.5 2.5l-.94 2.06-2.06.94zm10 10l.94 2.06.94-2.06 2.06-.94-2.06-.94-.94-2.06-.94 2.06-2.06.94z\"/><path d=\"M17.41 7.96l-1.37-1.37c-.4-.4-.92-.59-1.43-.59-.52 0-1.04.2-1.43.59L10.3 9.45l-7.72 7.72c-.78.78-.78 2.05 0 2.83L4 21.41c.39.39.9.59 1.41.59.51 0 1.02-.2 1.41-.59l7.78-7.78 2.81-2.81c.8-.78.8-2.07 0-2.86zM5.41 20L4 18.59l7.72-7.72 1.47 1.35L5.41 20z\"/>\n",
              "  </svg>\n",
              "      </button>\n",
              "      \n",
              "  <style>\n",
              "    .colab-df-container {\n",
              "      display:flex;\n",
              "      flex-wrap:wrap;\n",
              "      gap: 12px;\n",
              "    }\n",
              "\n",
              "    .colab-df-convert {\n",
              "      background-color: #E8F0FE;\n",
              "      border: none;\n",
              "      border-radius: 50%;\n",
              "      cursor: pointer;\n",
              "      display: none;\n",
              "      fill: #1967D2;\n",
              "      height: 32px;\n",
              "      padding: 0 0 0 0;\n",
              "      width: 32px;\n",
              "    }\n",
              "\n",
              "    .colab-df-convert:hover {\n",
              "      background-color: #E2EBFA;\n",
              "      box-shadow: 0px 1px 2px rgba(60, 64, 67, 0.3), 0px 1px 3px 1px rgba(60, 64, 67, 0.15);\n",
              "      fill: #174EA6;\n",
              "    }\n",
              "\n",
              "    [theme=dark] .colab-df-convert {\n",
              "      background-color: #3B4455;\n",
              "      fill: #D2E3FC;\n",
              "    }\n",
              "\n",
              "    [theme=dark] .colab-df-convert:hover {\n",
              "      background-color: #434B5C;\n",
              "      box-shadow: 0px 1px 3px 1px rgba(0, 0, 0, 0.15);\n",
              "      filter: drop-shadow(0px 1px 2px rgba(0, 0, 0, 0.3));\n",
              "      fill: #FFFFFF;\n",
              "    }\n",
              "  </style>\n",
              "\n",
              "      <script>\n",
              "        const buttonEl =\n",
              "          document.querySelector('#df-3864822e-4308-42c1-842b-d3b20c1e578a button.colab-df-convert');\n",
              "        buttonEl.style.display =\n",
              "          google.colab.kernel.accessAllowed ? 'block' : 'none';\n",
              "\n",
              "        async function convertToInteractive(key) {\n",
              "          const element = document.querySelector('#df-3864822e-4308-42c1-842b-d3b20c1e578a');\n",
              "          const dataTable =\n",
              "            await google.colab.kernel.invokeFunction('convertToInteractive',\n",
              "                                                     [key], {});\n",
              "          if (!dataTable) return;\n",
              "\n",
              "          const docLinkHtml = 'Like what you see? Visit the ' +\n",
              "            '<a target=\"_blank\" href=https://colab.research.google.com/notebooks/data_table.ipynb>data table notebook</a>'\n",
              "            + ' to learn more about interactive tables.';\n",
              "          element.innerHTML = '';\n",
              "          dataTable['output_type'] = 'display_data';\n",
              "          await google.colab.output.renderOutput(dataTable, element);\n",
              "          const docLink = document.createElement('div');\n",
              "          docLink.innerHTML = docLinkHtml;\n",
              "          element.appendChild(docLink);\n",
              "        }\n",
              "      </script>\n",
              "    </div>\n",
              "  </div>\n",
              "  "
            ]
          },
          "metadata": {},
          "execution_count": 8
        }
      ]
    },
    {
      "cell_type": "code",
      "source": [
        "from sklearn import tree\n",
        "\n",
        "dt_model = tree.DecisionTreeClassifier(\n",
        "    criterion=\"gini\",\n",
        "    max_depth=3,\n",
        ")\n",
        "features = [\n",
        "    \"radius_mean\",\n",
        "    \"texture_mean\",\n",
        "    \"perimeter_mean\",\n",
        "    \"area_mean\",\n",
        "    \"smoothness_mean\",\n",
        "    \"compactness_mean\",\n",
        "    \"concavity_mean\",\n",
        "    \"concave_mean\",\n",
        "    \"symmetry_mean\",\n",
        "    \"fractal_mean\",\n",
        "    \"radius_se\",\n",
        "    \"texture_se\",\n",
        "    \"perimeter_se\",\n",
        "    \"area_se\",\n",
        "    \"smoothness_se\",\n",
        "    \"compactness_se\",\n",
        "    \"concavity_se\",\n",
        "    \"concave_se\",\n",
        "    \"symmetry_se\",\n",
        "    \"fractal_se\",\n",
        "    \"radius_extreme\",\n",
        "    \"texture_extreme\",\n",
        "    \"perimeter_extreme\",\n",
        "    \"area_extreme\",\n",
        "    \"smoothness_extreme\",\n",
        "    \"compactness_extreme\",\n",
        "    \"concavity_extreme\",\n",
        "    \"concave_extreme\",\n",
        "    \"symmetry_extreme\",\n",
        "    \"fractal_extreme\",\n",
        "]\n",
        "label = \"label\"\n",
        "dt_model.fit(X=cancer[features], y=cancer[label])"
      ],
      "metadata": {
        "colab": {
          "base_uri": "https://localhost:8080/"
        },
        "id": "C2ffTgNWOJcG",
        "outputId": "47d80aab-edf4-4c8a-9dc0-787e611cd04c"
      },
      "execution_count": 4,
      "outputs": [
        {
          "output_type": "execute_result",
          "data": {
            "text/plain": [
              "DecisionTreeClassifier(max_depth=3)"
            ]
          },
          "metadata": {},
          "execution_count": 4
        }
      ]
    },
    {
      "cell_type": "code",
      "source": [
        "import graphviz\n",
        "\n",
        "dot_data = tree.export_graphviz(\n",
        "    decision_tree=dt_model, \n",
        "    out_file=None, \n",
        "    feature_names=features,  \n",
        "    class_names=[\"0\", \"1\"],  \n",
        "    filled=True, \n",
        "    rounded=True,  \n",
        "    special_characters=True,\n",
        "    max_depth=3,\n",
        ")  \n",
        "graph = graphviz.Source(dot_data)  \n",
        "graph.render(\"cancer_tree\")\n",
        "graph"
      ],
      "metadata": {
        "colab": {
          "base_uri": "https://localhost:8080/",
          "height": 599
        },
        "id": "kKSKJX0BOWHh",
        "outputId": "a329722a-e57c-4d57-f4c6-dd3de6f4f9bc"
      },
      "execution_count": 5,
      "outputs": [
        {
          "output_type": "execute_result",
          "data": {
            "text/plain": [
              "<graphviz.files.Source at 0x7f011e2a1110>"
            ],
            "image/svg+xml": "<?xml version=\"1.0\" encoding=\"UTF-8\" standalone=\"no\"?>\n<!DOCTYPE svg PUBLIC \"-//W3C//DTD SVG 1.1//EN\"\n \"http://www.w3.org/Graphics/SVG/1.1/DTD/svg11.dtd\">\n<!-- Generated by graphviz version 2.40.1 (20161225.0304)\n -->\n<!-- Title: Tree Pages: 1 -->\n<svg width=\"977pt\" height=\"433pt\"\n viewBox=\"0.00 0.00 977.00 433.00\" xmlns=\"http://www.w3.org/2000/svg\" xmlns:xlink=\"http://www.w3.org/1999/xlink\">\n<g id=\"graph0\" class=\"graph\" transform=\"scale(1 1) rotate(0) translate(4 429)\">\n<title>Tree</title>\n<polygon fill=\"#ffffff\" stroke=\"transparent\" points=\"-4,4 -4,-429 973,-429 973,4 -4,4\"/>\n<!-- 0 -->\n<g id=\"node1\" class=\"node\">\n<title>0</title>\n<path fill=\"#f4ccaf\" stroke=\"#000000\" d=\"M550.5,-425C550.5,-425 397.5,-425 397.5,-425 391.5,-425 385.5,-419 385.5,-413 385.5,-413 385.5,-354 385.5,-354 385.5,-348 391.5,-342 397.5,-342 397.5,-342 550.5,-342 550.5,-342 556.5,-342 562.5,-348 562.5,-354 562.5,-354 562.5,-413 562.5,-413 562.5,-419 556.5,-425 550.5,-425\"/>\n<text text-anchor=\"start\" x=\"393.5\" y=\"-409.8\" font-family=\"Helvetica,sans-Serif\" font-size=\"14.00\" fill=\"#000000\">radius_extreme ≤ 16.795</text>\n<text text-anchor=\"start\" x=\"436\" y=\"-394.8\" font-family=\"Helvetica,sans-Serif\" font-size=\"14.00\" fill=\"#000000\">gini = 0.468</text>\n<text text-anchor=\"start\" x=\"426\" y=\"-379.8\" font-family=\"Helvetica,sans-Serif\" font-size=\"14.00\" fill=\"#000000\">samples = 569</text>\n<text text-anchor=\"start\" x=\"416\" y=\"-364.8\" font-family=\"Helvetica,sans-Serif\" font-size=\"14.00\" fill=\"#000000\">value = [357, 212]</text>\n<text text-anchor=\"start\" x=\"445\" y=\"-349.8\" font-family=\"Helvetica,sans-Serif\" font-size=\"14.00\" fill=\"#000000\">class = 0</text>\n</g>\n<!-- 1 -->\n<g id=\"node2\" class=\"node\">\n<title>1</title>\n<path fill=\"#e78d4c\" stroke=\"#000000\" d=\"M445.5,-306C445.5,-306 284.5,-306 284.5,-306 278.5,-306 272.5,-300 272.5,-294 272.5,-294 272.5,-235 272.5,-235 272.5,-229 278.5,-223 284.5,-223 284.5,-223 445.5,-223 445.5,-223 451.5,-223 457.5,-229 457.5,-235 457.5,-235 457.5,-294 457.5,-294 457.5,-300 451.5,-306 445.5,-306\"/>\n<text text-anchor=\"start\" x=\"280.5\" y=\"-290.8\" font-family=\"Helvetica,sans-Serif\" font-size=\"14.00\" fill=\"#000000\">concave_extreme ≤ 0.136</text>\n<text text-anchor=\"start\" x=\"327\" y=\"-275.8\" font-family=\"Helvetica,sans-Serif\" font-size=\"14.00\" fill=\"#000000\">gini = 0.159</text>\n<text text-anchor=\"start\" x=\"317\" y=\"-260.8\" font-family=\"Helvetica,sans-Serif\" font-size=\"14.00\" fill=\"#000000\">samples = 379</text>\n<text text-anchor=\"start\" x=\"311\" y=\"-245.8\" font-family=\"Helvetica,sans-Serif\" font-size=\"14.00\" fill=\"#000000\">value = [346, 33]</text>\n<text text-anchor=\"start\" x=\"336\" y=\"-230.8\" font-family=\"Helvetica,sans-Serif\" font-size=\"14.00\" fill=\"#000000\">class = 0</text>\n</g>\n<!-- 0&#45;&gt;1 -->\n<g id=\"edge1\" class=\"edge\">\n<title>0&#45;&gt;1</title>\n<path fill=\"none\" stroke=\"#000000\" d=\"M435.8771,-341.8796C427.5451,-332.7832 418.6502,-323.0722 410.0761,-313.7116\"/>\n<polygon fill=\"#000000\" stroke=\"#000000\" points=\"412.6211,-311.3081 403.2856,-306.2981 407.4592,-316.0363 412.6211,-311.3081\"/>\n<text text-anchor=\"middle\" x=\"402.1902\" y=\"-327.5741\" font-family=\"Helvetica,sans-Serif\" font-size=\"14.00\" fill=\"#000000\">True</text>\n</g>\n<!-- 8 -->\n<g id=\"node9\" class=\"node\">\n<title>8</title>\n<path fill=\"#45a3e7\" stroke=\"#000000\" d=\"M642.5,-306C642.5,-306 493.5,-306 493.5,-306 487.5,-306 481.5,-300 481.5,-294 481.5,-294 481.5,-235 481.5,-235 481.5,-229 487.5,-223 493.5,-223 493.5,-223 642.5,-223 642.5,-223 648.5,-223 654.5,-229 654.5,-235 654.5,-235 654.5,-294 654.5,-294 654.5,-300 648.5,-306 642.5,-306\"/>\n<text text-anchor=\"start\" x=\"489.5\" y=\"-290.8\" font-family=\"Helvetica,sans-Serif\" font-size=\"14.00\" fill=\"#000000\">texture_extreme ≤ 19.91</text>\n<text text-anchor=\"start\" x=\"530\" y=\"-275.8\" font-family=\"Helvetica,sans-Serif\" font-size=\"14.00\" fill=\"#000000\">gini = 0.109</text>\n<text text-anchor=\"start\" x=\"520\" y=\"-260.8\" font-family=\"Helvetica,sans-Serif\" font-size=\"14.00\" fill=\"#000000\">samples = 190</text>\n<text text-anchor=\"start\" x=\"514\" y=\"-245.8\" font-family=\"Helvetica,sans-Serif\" font-size=\"14.00\" fill=\"#000000\">value = [11, 179]</text>\n<text text-anchor=\"start\" x=\"539\" y=\"-230.8\" font-family=\"Helvetica,sans-Serif\" font-size=\"14.00\" fill=\"#000000\">class = 1</text>\n</g>\n<!-- 0&#45;&gt;8 -->\n<g id=\"edge8\" class=\"edge\">\n<title>0&#45;&gt;8</title>\n<path fill=\"none\" stroke=\"#000000\" d=\"M506.8766,-341.8796C513.9197,-332.9633 521.4293,-323.4565 528.6874,-314.268\"/>\n<polygon fill=\"#000000\" stroke=\"#000000\" points=\"531.5309,-316.3147 534.983,-306.2981 526.0379,-311.9757 531.5309,-316.3147\"/>\n<text text-anchor=\"middle\" x=\"537.8973\" y=\"-327.4276\" font-family=\"Helvetica,sans-Serif\" font-size=\"14.00\" fill=\"#000000\">False</text>\n</g>\n<!-- 2 -->\n<g id=\"node3\" class=\"node\">\n<title>2</title>\n<path fill=\"#e5833c\" stroke=\"#000000\" d=\"M238,-187C238,-187 130,-187 130,-187 124,-187 118,-181 118,-175 118,-175 118,-116 118,-116 118,-110 124,-104 130,-104 130,-104 238,-104 238,-104 244,-104 250,-110 250,-116 250,-116 250,-175 250,-175 250,-181 244,-187 238,-187\"/>\n<text text-anchor=\"start\" x=\"126\" y=\"-171.8\" font-family=\"Helvetica,sans-Serif\" font-size=\"14.00\" fill=\"#000000\">radius_se ≤ 1.048</text>\n<text text-anchor=\"start\" x=\"150.5\" y=\"-156.8\" font-family=\"Helvetica,sans-Serif\" font-size=\"14.00\" fill=\"#000000\">gini = 0.03</text>\n<text text-anchor=\"start\" x=\"136\" y=\"-141.8\" font-family=\"Helvetica,sans-Serif\" font-size=\"14.00\" fill=\"#000000\">samples = 333</text>\n<text text-anchor=\"start\" x=\"134\" y=\"-126.8\" font-family=\"Helvetica,sans-Serif\" font-size=\"14.00\" fill=\"#000000\">value = [328, 5]</text>\n<text text-anchor=\"start\" x=\"155\" y=\"-111.8\" font-family=\"Helvetica,sans-Serif\" font-size=\"14.00\" fill=\"#000000\">class = 0</text>\n</g>\n<!-- 1&#45;&gt;2 -->\n<g id=\"edge2\" class=\"edge\">\n<title>1&#45;&gt;2</title>\n<path fill=\"none\" stroke=\"#000000\" d=\"M301.695,-222.8796C286.8144,-213.0962 270.8524,-202.6019 255.6351,-192.5971\"/>\n<polygon fill=\"#000000\" stroke=\"#000000\" points=\"257.5479,-189.666 247.2693,-187.0969 253.7023,-195.5151 257.5479,-189.666\"/>\n</g>\n<!-- 5 -->\n<g id=\"node6\" class=\"node\">\n<title>5</title>\n<path fill=\"#b8dcf6\" stroke=\"#000000\" d=\"M439.5,-187C439.5,-187 290.5,-187 290.5,-187 284.5,-187 278.5,-181 278.5,-175 278.5,-175 278.5,-116 278.5,-116 278.5,-110 284.5,-104 290.5,-104 290.5,-104 439.5,-104 439.5,-104 445.5,-104 451.5,-110 451.5,-116 451.5,-116 451.5,-175 451.5,-175 451.5,-181 445.5,-187 439.5,-187\"/>\n<text text-anchor=\"start\" x=\"286.5\" y=\"-171.8\" font-family=\"Helvetica,sans-Serif\" font-size=\"14.00\" fill=\"#000000\">texture_extreme ≤ 25.67</text>\n<text text-anchor=\"start\" x=\"327\" y=\"-156.8\" font-family=\"Helvetica,sans-Serif\" font-size=\"14.00\" fill=\"#000000\">gini = 0.476</text>\n<text text-anchor=\"start\" x=\"321\" y=\"-141.8\" font-family=\"Helvetica,sans-Serif\" font-size=\"14.00\" fill=\"#000000\">samples = 46</text>\n<text text-anchor=\"start\" x=\"315\" y=\"-126.8\" font-family=\"Helvetica,sans-Serif\" font-size=\"14.00\" fill=\"#000000\">value = [18, 28]</text>\n<text text-anchor=\"start\" x=\"336\" y=\"-111.8\" font-family=\"Helvetica,sans-Serif\" font-size=\"14.00\" fill=\"#000000\">class = 1</text>\n</g>\n<!-- 1&#45;&gt;5 -->\n<g id=\"edge5\" class=\"edge\">\n<title>1&#45;&gt;5</title>\n<path fill=\"none\" stroke=\"#000000\" d=\"M365,-222.8796C365,-214.6838 365,-205.9891 365,-197.5013\"/>\n<polygon fill=\"#000000\" stroke=\"#000000\" points=\"368.5001,-197.298 365,-187.2981 361.5001,-197.2981 368.5001,-197.298\"/>\n</g>\n<!-- 3 -->\n<g id=\"node4\" class=\"node\">\n<title>3</title>\n<path fill=\"#e5833b\" stroke=\"#000000\" d=\"M104,-68C104,-68 12,-68 12,-68 6,-68 0,-62 0,-56 0,-56 0,-12 0,-12 0,-6 6,0 12,0 12,0 104,0 104,0 110,0 116,-6 116,-12 116,-12 116,-56 116,-56 116,-62 110,-68 104,-68\"/>\n<text text-anchor=\"start\" x=\"20\" y=\"-52.8\" font-family=\"Helvetica,sans-Serif\" font-size=\"14.00\" fill=\"#000000\">gini = 0.024</text>\n<text text-anchor=\"start\" x=\"10\" y=\"-37.8\" font-family=\"Helvetica,sans-Serif\" font-size=\"14.00\" fill=\"#000000\">samples = 332</text>\n<text text-anchor=\"start\" x=\"8\" y=\"-22.8\" font-family=\"Helvetica,sans-Serif\" font-size=\"14.00\" fill=\"#000000\">value = [328, 4]</text>\n<text text-anchor=\"start\" x=\"29\" y=\"-7.8\" font-family=\"Helvetica,sans-Serif\" font-size=\"14.00\" fill=\"#000000\">class = 0</text>\n</g>\n<!-- 2&#45;&gt;3 -->\n<g id=\"edge3\" class=\"edge\">\n<title>2&#45;&gt;3</title>\n<path fill=\"none\" stroke=\"#000000\" d=\"M137.0823,-103.9815C126.3848,-94.5151 115.0244,-84.462 104.3508,-75.0168\"/>\n<polygon fill=\"#000000\" stroke=\"#000000\" points=\"106.5278,-72.2696 96.7195,-68.2637 101.8889,-77.5118 106.5278,-72.2696\"/>\n</g>\n<!-- 4 -->\n<g id=\"node5\" class=\"node\">\n<title>4</title>\n<path fill=\"#399de5\" stroke=\"#000000\" d=\"M221.5,-68C221.5,-68 146.5,-68 146.5,-68 140.5,-68 134.5,-62 134.5,-56 134.5,-56 134.5,-12 134.5,-12 134.5,-6 140.5,0 146.5,0 146.5,0 221.5,0 221.5,0 227.5,0 233.5,-6 233.5,-12 233.5,-12 233.5,-56 233.5,-56 233.5,-62 227.5,-68 221.5,-68\"/>\n<text text-anchor=\"start\" x=\"154.5\" y=\"-52.8\" font-family=\"Helvetica,sans-Serif\" font-size=\"14.00\" fill=\"#000000\">gini = 0.0</text>\n<text text-anchor=\"start\" x=\"144.5\" y=\"-37.8\" font-family=\"Helvetica,sans-Serif\" font-size=\"14.00\" fill=\"#000000\">samples = 1</text>\n<text text-anchor=\"start\" x=\"142.5\" y=\"-22.8\" font-family=\"Helvetica,sans-Serif\" font-size=\"14.00\" fill=\"#000000\">value = [0, 1]</text>\n<text text-anchor=\"start\" x=\"155\" y=\"-7.8\" font-family=\"Helvetica,sans-Serif\" font-size=\"14.00\" fill=\"#000000\">class = 1</text>\n</g>\n<!-- 2&#45;&gt;4 -->\n<g id=\"edge4\" class=\"edge\">\n<title>2&#45;&gt;4</title>\n<path fill=\"none\" stroke=\"#000000\" d=\"M184,-103.9815C184,-95.618 184,-86.7965 184,-78.3409\"/>\n<polygon fill=\"#000000\" stroke=\"#000000\" points=\"187.5001,-78.2636 184,-68.2637 180.5001,-78.2637 187.5001,-78.2636\"/>\n</g>\n<!-- 6 -->\n<g id=\"node7\" class=\"node\">\n<title>6</title>\n<path fill=\"#eca36e\" stroke=\"#000000\" d=\"M346.5,-68C346.5,-68 263.5,-68 263.5,-68 257.5,-68 251.5,-62 251.5,-56 251.5,-56 251.5,-12 251.5,-12 251.5,-6 257.5,0 263.5,0 263.5,0 346.5,0 346.5,0 352.5,0 358.5,-6 358.5,-12 358.5,-12 358.5,-56 358.5,-56 358.5,-62 352.5,-68 346.5,-68\"/>\n<text text-anchor=\"start\" x=\"267\" y=\"-52.8\" font-family=\"Helvetica,sans-Serif\" font-size=\"14.00\" fill=\"#000000\">gini = 0.332</text>\n<text text-anchor=\"start\" x=\"261\" y=\"-37.8\" font-family=\"Helvetica,sans-Serif\" font-size=\"14.00\" fill=\"#000000\">samples = 19</text>\n<text text-anchor=\"start\" x=\"259.5\" y=\"-22.8\" font-family=\"Helvetica,sans-Serif\" font-size=\"14.00\" fill=\"#000000\">value = [15, 4]</text>\n<text text-anchor=\"start\" x=\"276\" y=\"-7.8\" font-family=\"Helvetica,sans-Serif\" font-size=\"14.00\" fill=\"#000000\">class = 0</text>\n</g>\n<!-- 5&#45;&gt;6 -->\n<g id=\"edge6\" class=\"edge\">\n<title>5&#45;&gt;6</title>\n<path fill=\"none\" stroke=\"#000000\" d=\"M342.6582,-103.9815C337.9598,-95.2504 332.9929,-86.0202 328.2617,-77.2281\"/>\n<polygon fill=\"#000000\" stroke=\"#000000\" points=\"331.2586,-75.4111 323.4379,-68.2637 325.0944,-78.7282 331.2586,-75.4111\"/>\n</g>\n<!-- 7 -->\n<g id=\"node8\" class=\"node\">\n<title>7</title>\n<path fill=\"#52a9e8\" stroke=\"#000000\" d=\"M471.5,-68C471.5,-68 388.5,-68 388.5,-68 382.5,-68 376.5,-62 376.5,-56 376.5,-56 376.5,-12 376.5,-12 376.5,-6 382.5,0 388.5,0 388.5,0 471.5,0 471.5,0 477.5,0 483.5,-6 483.5,-12 483.5,-12 483.5,-56 483.5,-56 483.5,-62 477.5,-68 471.5,-68\"/>\n<text text-anchor=\"start\" x=\"392\" y=\"-52.8\" font-family=\"Helvetica,sans-Serif\" font-size=\"14.00\" fill=\"#000000\">gini = 0.198</text>\n<text text-anchor=\"start\" x=\"386\" y=\"-37.8\" font-family=\"Helvetica,sans-Serif\" font-size=\"14.00\" fill=\"#000000\">samples = 27</text>\n<text text-anchor=\"start\" x=\"384.5\" y=\"-22.8\" font-family=\"Helvetica,sans-Serif\" font-size=\"14.00\" fill=\"#000000\">value = [3, 24]</text>\n<text text-anchor=\"start\" x=\"401\" y=\"-7.8\" font-family=\"Helvetica,sans-Serif\" font-size=\"14.00\" fill=\"#000000\">class = 1</text>\n</g>\n<!-- 5&#45;&gt;7 -->\n<g id=\"edge7\" class=\"edge\">\n<title>5&#45;&gt;7</title>\n<path fill=\"none\" stroke=\"#000000\" d=\"M389.2036,-103.9815C394.3471,-95.1585 399.7877,-85.8258 404.9616,-76.9506\"/>\n<polygon fill=\"#000000\" stroke=\"#000000\" points=\"408.013,-78.6656 410.0257,-68.2637 401.9656,-75.1402 408.013,-78.6656\"/>\n</g>\n<!-- 9 -->\n<g id=\"node10\" class=\"node\">\n<title>9</title>\n<path fill=\"#fcf1e9\" stroke=\"#000000\" d=\"M645.5,-187C645.5,-187 490.5,-187 490.5,-187 484.5,-187 478.5,-181 478.5,-175 478.5,-175 478.5,-116 478.5,-116 478.5,-110 484.5,-104 490.5,-104 490.5,-104 645.5,-104 645.5,-104 651.5,-104 657.5,-110 657.5,-116 657.5,-116 657.5,-175 657.5,-175 657.5,-181 651.5,-187 645.5,-187\"/>\n<text text-anchor=\"start\" x=\"486.5\" y=\"-171.8\" font-family=\"Helvetica,sans-Serif\" font-size=\"14.00\" fill=\"#000000\">compactness_se ≤ 0.021</text>\n<text text-anchor=\"start\" x=\"530\" y=\"-156.8\" font-family=\"Helvetica,sans-Serif\" font-size=\"14.00\" fill=\"#000000\">gini = 0.498</text>\n<text text-anchor=\"start\" x=\"524\" y=\"-141.8\" font-family=\"Helvetica,sans-Serif\" font-size=\"14.00\" fill=\"#000000\">samples = 17</text>\n<text text-anchor=\"start\" x=\"526.5\" y=\"-126.8\" font-family=\"Helvetica,sans-Serif\" font-size=\"14.00\" fill=\"#000000\">value = [9, 8]</text>\n<text text-anchor=\"start\" x=\"539\" y=\"-111.8\" font-family=\"Helvetica,sans-Serif\" font-size=\"14.00\" fill=\"#000000\">class = 0</text>\n</g>\n<!-- 8&#45;&gt;9 -->\n<g id=\"edge9\" class=\"edge\">\n<title>8&#45;&gt;9</title>\n<path fill=\"none\" stroke=\"#000000\" d=\"M568,-222.8796C568,-214.6838 568,-205.9891 568,-197.5013\"/>\n<polygon fill=\"#000000\" stroke=\"#000000\" points=\"571.5001,-197.298 568,-187.2981 564.5001,-197.2981 571.5001,-197.298\"/>\n</g>\n<!-- 12 -->\n<g id=\"node13\" class=\"node\">\n<title>12</title>\n<path fill=\"#3b9ee5\" stroke=\"#000000\" d=\"M877.5,-187C877.5,-187 692.5,-187 692.5,-187 686.5,-187 680.5,-181 680.5,-175 680.5,-175 680.5,-116 680.5,-116 680.5,-110 686.5,-104 692.5,-104 692.5,-104 877.5,-104 877.5,-104 883.5,-104 889.5,-110 889.5,-116 889.5,-116 889.5,-175 889.5,-175 889.5,-181 883.5,-187 877.5,-187\"/>\n<text text-anchor=\"start\" x=\"688.5\" y=\"-171.8\" font-family=\"Helvetica,sans-Serif\" font-size=\"14.00\" fill=\"#000000\">smoothness_extreme ≤ 0.088</text>\n<text text-anchor=\"start\" x=\"747\" y=\"-156.8\" font-family=\"Helvetica,sans-Serif\" font-size=\"14.00\" fill=\"#000000\">gini = 0.023</text>\n<text text-anchor=\"start\" x=\"737\" y=\"-141.8\" font-family=\"Helvetica,sans-Serif\" font-size=\"14.00\" fill=\"#000000\">samples = 173</text>\n<text text-anchor=\"start\" x=\"735\" y=\"-126.8\" font-family=\"Helvetica,sans-Serif\" font-size=\"14.00\" fill=\"#000000\">value = [2, 171]</text>\n<text text-anchor=\"start\" x=\"756\" y=\"-111.8\" font-family=\"Helvetica,sans-Serif\" font-size=\"14.00\" fill=\"#000000\">class = 1</text>\n</g>\n<!-- 8&#45;&gt;12 -->\n<g id=\"edge12\" class=\"edge\">\n<title>8&#45;&gt;12</title>\n<path fill=\"none\" stroke=\"#000000\" d=\"M643.8961,-222.8796C662.0667,-212.915 681.5823,-202.2129 700.1296,-192.0418\"/>\n<polygon fill=\"#000000\" stroke=\"#000000\" points=\"702.0616,-194.9741 709.1468,-187.0969 698.6957,-188.8365 702.0616,-194.9741\"/>\n</g>\n<!-- 10 -->\n<g id=\"node11\" class=\"node\">\n<title>10</title>\n<path fill=\"#e58139\" stroke=\"#000000\" d=\"M588.5,-68C588.5,-68 513.5,-68 513.5,-68 507.5,-68 501.5,-62 501.5,-56 501.5,-56 501.5,-12 501.5,-12 501.5,-6 507.5,0 513.5,0 513.5,0 588.5,0 588.5,0 594.5,0 600.5,-6 600.5,-12 600.5,-12 600.5,-56 600.5,-56 600.5,-62 594.5,-68 588.5,-68\"/>\n<text text-anchor=\"start\" x=\"521.5\" y=\"-52.8\" font-family=\"Helvetica,sans-Serif\" font-size=\"14.00\" fill=\"#000000\">gini = 0.0</text>\n<text text-anchor=\"start\" x=\"511.5\" y=\"-37.8\" font-family=\"Helvetica,sans-Serif\" font-size=\"14.00\" fill=\"#000000\">samples = 9</text>\n<text text-anchor=\"start\" x=\"509.5\" y=\"-22.8\" font-family=\"Helvetica,sans-Serif\" font-size=\"14.00\" fill=\"#000000\">value = [9, 0]</text>\n<text text-anchor=\"start\" x=\"522\" y=\"-7.8\" font-family=\"Helvetica,sans-Serif\" font-size=\"14.00\" fill=\"#000000\">class = 0</text>\n</g>\n<!-- 9&#45;&gt;10 -->\n<g id=\"edge10\" class=\"edge\">\n<title>9&#45;&gt;10</title>\n<path fill=\"none\" stroke=\"#000000\" d=\"M561.6698,-103.9815C560.3947,-95.618 559.0497,-86.7965 557.7605,-78.3409\"/>\n<polygon fill=\"#000000\" stroke=\"#000000\" points=\"561.1914,-77.6219 556.2241,-68.2637 554.2714,-78.677 561.1914,-77.6219\"/>\n</g>\n<!-- 11 -->\n<g id=\"node12\" class=\"node\">\n<title>11</title>\n<path fill=\"#399de5\" stroke=\"#000000\" d=\"M705.5,-68C705.5,-68 630.5,-68 630.5,-68 624.5,-68 618.5,-62 618.5,-56 618.5,-56 618.5,-12 618.5,-12 618.5,-6 624.5,0 630.5,0 630.5,0 705.5,0 705.5,0 711.5,0 717.5,-6 717.5,-12 717.5,-12 717.5,-56 717.5,-56 717.5,-62 711.5,-68 705.5,-68\"/>\n<text text-anchor=\"start\" x=\"638.5\" y=\"-52.8\" font-family=\"Helvetica,sans-Serif\" font-size=\"14.00\" fill=\"#000000\">gini = 0.0</text>\n<text text-anchor=\"start\" x=\"628.5\" y=\"-37.8\" font-family=\"Helvetica,sans-Serif\" font-size=\"14.00\" fill=\"#000000\">samples = 8</text>\n<text text-anchor=\"start\" x=\"626.5\" y=\"-22.8\" font-family=\"Helvetica,sans-Serif\" font-size=\"14.00\" fill=\"#000000\">value = [0, 8]</text>\n<text text-anchor=\"start\" x=\"639\" y=\"-7.8\" font-family=\"Helvetica,sans-Serif\" font-size=\"14.00\" fill=\"#000000\">class = 1</text>\n</g>\n<!-- 9&#45;&gt;11 -->\n<g id=\"edge11\" class=\"edge\">\n<title>9&#45;&gt;11</title>\n<path fill=\"none\" stroke=\"#000000\" d=\"M605.2363,-103.9815C613.4791,-94.7908 622.2178,-85.0472 630.4721,-75.8436\"/>\n<polygon fill=\"#000000\" stroke=\"#000000\" points=\"633.1991,-78.0451 637.2702,-68.2637 627.9879,-73.3714 633.1991,-78.0451\"/>\n</g>\n<!-- 13 -->\n<g id=\"node14\" class=\"node\">\n<title>13</title>\n<path fill=\"#e58139\" stroke=\"#000000\" d=\"M822.5,-68C822.5,-68 747.5,-68 747.5,-68 741.5,-68 735.5,-62 735.5,-56 735.5,-56 735.5,-12 735.5,-12 735.5,-6 741.5,0 747.5,0 747.5,0 822.5,0 822.5,0 828.5,0 834.5,-6 834.5,-12 834.5,-12 834.5,-56 834.5,-56 834.5,-62 828.5,-68 822.5,-68\"/>\n<text text-anchor=\"start\" x=\"755.5\" y=\"-52.8\" font-family=\"Helvetica,sans-Serif\" font-size=\"14.00\" fill=\"#000000\">gini = 0.0</text>\n<text text-anchor=\"start\" x=\"745.5\" y=\"-37.8\" font-family=\"Helvetica,sans-Serif\" font-size=\"14.00\" fill=\"#000000\">samples = 1</text>\n<text text-anchor=\"start\" x=\"743.5\" y=\"-22.8\" font-family=\"Helvetica,sans-Serif\" font-size=\"14.00\" fill=\"#000000\">value = [1, 0]</text>\n<text text-anchor=\"start\" x=\"756\" y=\"-7.8\" font-family=\"Helvetica,sans-Serif\" font-size=\"14.00\" fill=\"#000000\">class = 0</text>\n</g>\n<!-- 12&#45;&gt;13 -->\n<g id=\"edge13\" class=\"edge\">\n<title>12&#45;&gt;13</title>\n<path fill=\"none\" stroke=\"#000000\" d=\"M785,-103.9815C785,-95.618 785,-86.7965 785,-78.3409\"/>\n<polygon fill=\"#000000\" stroke=\"#000000\" points=\"788.5001,-78.2636 785,-68.2637 781.5001,-78.2637 788.5001,-78.2636\"/>\n</g>\n<!-- 14 -->\n<g id=\"node15\" class=\"node\">\n<title>14</title>\n<path fill=\"#3a9ee5\" stroke=\"#000000\" d=\"M957,-68C957,-68 865,-68 865,-68 859,-68 853,-62 853,-56 853,-56 853,-12 853,-12 853,-6 859,0 865,0 865,0 957,0 957,0 963,0 969,-6 969,-12 969,-12 969,-56 969,-56 969,-62 963,-68 957,-68\"/>\n<text text-anchor=\"start\" x=\"873\" y=\"-52.8\" font-family=\"Helvetica,sans-Serif\" font-size=\"14.00\" fill=\"#000000\">gini = 0.012</text>\n<text text-anchor=\"start\" x=\"863\" y=\"-37.8\" font-family=\"Helvetica,sans-Serif\" font-size=\"14.00\" fill=\"#000000\">samples = 172</text>\n<text text-anchor=\"start\" x=\"861\" y=\"-22.8\" font-family=\"Helvetica,sans-Serif\" font-size=\"14.00\" fill=\"#000000\">value = [1, 171]</text>\n<text text-anchor=\"start\" x=\"882\" y=\"-7.8\" font-family=\"Helvetica,sans-Serif\" font-size=\"14.00\" fill=\"#000000\">class = 1</text>\n</g>\n<!-- 12&#45;&gt;14 -->\n<g id=\"edge14\" class=\"edge\">\n<title>12&#45;&gt;14</title>\n<path fill=\"none\" stroke=\"#000000\" d=\"M831.9177,-103.9815C842.6152,-94.5151 853.9756,-84.462 864.6492,-75.0168\"/>\n<polygon fill=\"#000000\" stroke=\"#000000\" points=\"867.1111,-77.5118 872.2805,-68.2637 862.4722,-72.2696 867.1111,-77.5118\"/>\n</g>\n</g>\n</svg>\n"
          },
          "metadata": {},
          "execution_count": 5
        }
      ]
    }
  ]
}