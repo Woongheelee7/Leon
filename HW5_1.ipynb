{
  "nbformat": 4,
  "nbformat_minor": 0,
  "metadata": {
    "colab": {
      "provenance": [],
      "authorship_tag": "ABX9TyM2WVWAr/FuMugwK0fCamUQ",
      "include_colab_link": true
    },
    "kernelspec": {
      "name": "python3",
      "display_name": "Python 3"
    },
    "language_info": {
      "name": "python"
    }
  },
  "cells": [
    {
      "cell_type": "markdown",
      "metadata": {
        "id": "view-in-github",
        "colab_type": "text"
      },
      "source": [
        "<a href=\"https://colab.research.google.com/github/Woongheelee7/Leon/blob/main/HW5_1.ipynb\" target=\"_parent\"><img src=\"https://colab.research.google.com/assets/colab-badge.svg\" alt=\"Open In Colab\"/></a>"
      ]
    },
    {
      "cell_type": "code",
      "execution_count": 1,
      "metadata": {
        "id": "hWkkV3VZo6Dd"
      },
      "outputs": [],
      "source": [
        "%matplotlib inline\n",
        "import matplotlib.pyplot as plt\n",
        "import numpy as np\n",
        "import pandas as pd\n",
        "import seaborn as sns\n",
        "np.set_printoptions(threshold=np.inf, linewidth=np.inf) \n",
        "def partial_sum(arr,i):\n",
        "    partial_sum=0\n",
        "    for k in range(i+1):\n",
        "      partial_sum+=arr[k]\n",
        "      \n",
        "    return partial_sum \n",
        "def gini_delta(arr,k):\n",
        "    n=len(arr)\n",
        "    sum=arr.sum()\n",
        "    ratio_1=(k+1)/n\n",
        "    ratio_2=1-ratio_1\n",
        "    partial=partial_sum(arr,k)\n",
        "    pro1=(partial/(k+1))\n",
        "    pro1_1=1-pro1\n",
        "    Rpro1=1-pro1**2-pro1_1**2\n",
        "\n",
        "\n",
        "    pro2=((sum-partial)/(n-k-1))\n",
        "    pro2_2=1-pro2\n",
        "    Rpro2=1-pro2**2-pro2_2**2\n",
        "    gini_delta=gini_index-ratio_1*Rpro1-ratio_2*Rpro2\n",
        "    return gini_delta"
      ]
    },
    {
      "cell_type": "code",
      "source": [
        "def error_rate(p: float):\n",
        "    \"\"\"Classification error rate for a given binary class ratio\"\"\"\n",
        "    return p if p < 0.5 else 1 - p\n",
        "\n",
        "def gini_index(p: float):\n",
        "    \"\"\"Gini index for a given binary class ratio.\"\"\"\n",
        "    return 2 * p * (1 - p)\n",
        "\n",
        "def entropy(p: float):\n",
        "    \"\"\"Entropy for a given binary class ratio, normalized by ln(2)\"\"\"\n",
        "    return -(p * np.log(p + 1e-16) + (1 - p) * np.log(1 - p + 1e-16)) / (np.log(2) / 0.5)\n",
        "\n"
      ],
      "metadata": {
        "id": "14091GQyF9yU"
      },
      "execution_count": 2,
      "outputs": []
    },
    {
      "cell_type": "code",
      "source": [
        "cancer = pd.read_csv(\"https://raw.githubusercontent.com/changyaochen/MECE4520/master/data/breast_cancer.csv\")\n",
        "cancer[\"label\"] = cancer[\"diagnosis\"].apply(lambda x: 0 if x == \"B\" else 1)\n",
        "cancer_label=cancer[\"label\"]\n",
        "cancer_texture=cancer[\"texture_mean\"]\n",
        "cancer_sub=pd.concat([cancer_label,cancer_texture],axis=1)\n",
        "cancer_sorted=cancer_sub.sort_values(by='texture_mean')\n",
        "\n",
        "gini_index=1-(cancer_label.sum()/len(cancer.label))**2-((len(cancer_label)-cancer.label.sum())/len(cancer_label))**2\n",
        "gini_index\n",
        "\n"
      ],
      "metadata": {
        "colab": {
          "base_uri": "https://localhost:8080/"
        },
        "id": "ZdQbRTsiF_oK",
        "outputId": "96f777c1-de41-4ec8-aca7-fd446ccff157"
      },
      "execution_count": 3,
      "outputs": [
        {
          "output_type": "execute_result",
          "data": {
            "text/plain": [
              "0.46753006075469244"
            ]
          },
          "metadata": {},
          "execution_count": 3
        }
      ]
    },
    {
      "cell_type": "code",
      "source": [
        "label=np.array(cancer_sorted['label'])\n",
        "texture_mean=np.array(cancer_sorted['texture_mean'])\n",
        "delta=[]\n",
        "\n",
        "for i in range(len(label)):\n",
        "    G= gini_delta(label,i)\n",
        "    delta.append(G)\n",
        "delta[0]=0\n",
        "print(delta.index(max(delta)))\n",
        "texture_mean[delta.index(max(delta))]"
      ],
      "metadata": {
        "colab": {
          "base_uri": "https://localhost:8080/"
        },
        "id": "0VDz7sJz5A1F",
        "outputId": "5f405289-8ef9-4336-f1c8-ae668b85ca87"
      },
      "execution_count": 7,
      "outputs": [
        {
          "output_type": "stream",
          "name": "stdout",
          "text": [
            "315\n"
          ]
        },
        {
          "output_type": "stream",
          "name": "stderr",
          "text": [
            "/usr/local/lib/python3.7/dist-packages/ipykernel_launcher.py:24: RuntimeWarning: invalid value encountered in long_scalars\n"
          ]
        },
        {
          "output_type": "execute_result",
          "data": {
            "text/plain": [
              "19.46"
            ]
          },
          "metadata": {},
          "execution_count": 7
        }
      ]
    },
    {
      "cell_type": "code",
      "source": [
        "from sklearn import tree\n",
        "\n",
        "dt_model = tree.DecisionTreeClassifier(\n",
        "    criterion=\"entropy\",\n",
        "    max_depth=3,\n",
        ")\n",
        "features = [\n",
        "    # \"radius_mean\",\n",
        "    \"texture_mean\"\n",
        "    # \"perimeter_mean\",\n",
        "    # \"area_mean\",\n",
        "    # \"smoothness_mean\",\n",
        "    # \"compactness_mean\",\n",
        "    # \"concavity_mean\",\n",
        "    # \"concave_mean\",\n",
        "    # \"symmetry_mean\",\n",
        "    # \"fractal_mean\",\n",
        "    # \"radius_se\",\n",
        "    # \"texture_se\",\n",
        "    # \"perimeter_se\",\n",
        "    # \"area_se\",\n",
        "    # \"smoothness_se\",\n",
        "    # \"compactness_se\",\n",
        "    # \"concavity_se\",\n",
        "    # \"concave_se\",\n",
        "    # \"symmetry_se\",\n",
        "    # \"fractal_se\",\n",
        "    # \"radius_extreme\",\n",
        "    # \"texture_extreme\",\n",
        "    # \"perimeter_extreme\",\n",
        "    # \"area_extreme\",\n",
        "    # \"smoothness_extreme\",\n",
        "    # \"compactness_extreme\",\n",
        "    # \"concavity_extreme\",\n",
        "    # \"concave_extreme\",\n",
        "    # \"symmetry_extreme\",\n",
        "    # \"fractal_extreme\",\n",
        "]\n",
        "label = \"label\"\n",
        "dt_model.fit(X=cancer[features], y=cancer[label])"
      ],
      "metadata": {
        "colab": {
          "base_uri": "https://localhost:8080/"
        },
        "id": "C2ffTgNWOJcG",
        "outputId": "613902bd-9d77-4ac6-d038-4d5583081a58"
      },
      "execution_count": 9,
      "outputs": [
        {
          "output_type": "execute_result",
          "data": {
            "text/plain": [
              "DecisionTreeClassifier(criterion='entropy', max_depth=3)"
            ]
          },
          "metadata": {},
          "execution_count": 9
        }
      ]
    },
    {
      "cell_type": "code",
      "source": [
        "import graphviz\n",
        "\n",
        "dot_data = tree.export_graphviz(\n",
        "    decision_tree=dt_model, \n",
        "    out_file=None, \n",
        "    feature_names=features,  \n",
        "    class_names=[\"0\", \"1\"],  \n",
        "    filled=True, \n",
        "    rounded=True,  \n",
        "    special_characters=True,\n",
        "    max_depth=3,\n",
        ")  \n",
        "graph = graphviz.Source(dot_data)  \n",
        "graph.render(\"cancer_tree\")\n",
        "graph"
      ],
      "metadata": {
        "colab": {
          "base_uri": "https://localhost:8080/",
          "height": 599
        },
        "id": "kKSKJX0BOWHh",
        "outputId": "1a2f2e48-ada3-47b9-89a5-1a2e8c93c3e7"
      },
      "execution_count": 10,
      "outputs": [
        {
          "output_type": "execute_result",
          "data": {
            "text/plain": [
              "<graphviz.files.Source at 0x7f4d4024a790>"
            ],
            "image/svg+xml": "<?xml version=\"1.0\" encoding=\"UTF-8\" standalone=\"no\"?>\n<!DOCTYPE svg PUBLIC \"-//W3C//DTD SVG 1.1//EN\"\n \"http://www.w3.org/Graphics/SVG/1.1/DTD/svg11.dtd\">\n<!-- Generated by graphviz version 2.40.1 (20161225.0304)\n -->\n<!-- Title: Tree Pages: 1 -->\n<svg width=\"1058pt\" height=\"433pt\"\n viewBox=\"0.00 0.00 1058.00 433.00\" xmlns=\"http://www.w3.org/2000/svg\" xmlns:xlink=\"http://www.w3.org/1999/xlink\">\n<g id=\"graph0\" class=\"graph\" transform=\"scale(1 1) rotate(0) translate(4 429)\">\n<title>Tree</title>\n<polygon fill=\"#ffffff\" stroke=\"transparent\" points=\"-4,4 -4,-429 1054,-429 1054,4 -4,4\"/>\n<!-- 0 -->\n<g id=\"node1\" class=\"node\">\n<title>0</title>\n<path fill=\"#f4ccaf\" stroke=\"#000000\" d=\"M572,-425C572,-425 430,-425 430,-425 424,-425 418,-419 418,-413 418,-413 418,-354 418,-354 418,-348 424,-342 430,-342 430,-342 572,-342 572,-342 578,-342 584,-348 584,-354 584,-354 584,-413 584,-413 584,-419 578,-425 572,-425\"/>\n<text text-anchor=\"start\" x=\"426\" y=\"-409.8\" font-family=\"Helvetica,sans-Serif\" font-size=\"14.00\" fill=\"#000000\">texture_mean ≤ 18.635</text>\n<text text-anchor=\"start\" x=\"450\" y=\"-394.8\" font-family=\"Helvetica,sans-Serif\" font-size=\"14.00\" fill=\"#000000\">entropy = 0.953</text>\n<text text-anchor=\"start\" x=\"453\" y=\"-379.8\" font-family=\"Helvetica,sans-Serif\" font-size=\"14.00\" fill=\"#000000\">samples = 569</text>\n<text text-anchor=\"start\" x=\"443\" y=\"-364.8\" font-family=\"Helvetica,sans-Serif\" font-size=\"14.00\" fill=\"#000000\">value = [357, 212]</text>\n<text text-anchor=\"start\" x=\"472\" y=\"-349.8\" font-family=\"Helvetica,sans-Serif\" font-size=\"14.00\" fill=\"#000000\">class = 0</text>\n</g>\n<!-- 1 -->\n<g id=\"node2\" class=\"node\">\n<title>1</title>\n<path fill=\"#e9965a\" stroke=\"#000000\" d=\"M463,-306C463,-306 321,-306 321,-306 315,-306 309,-300 309,-294 309,-294 309,-235 309,-235 309,-229 315,-223 321,-223 321,-223 463,-223 463,-223 469,-223 475,-229 475,-235 475,-235 475,-294 475,-294 475,-300 469,-306 463,-306\"/>\n<text text-anchor=\"start\" x=\"317\" y=\"-290.8\" font-family=\"Helvetica,sans-Serif\" font-size=\"14.00\" fill=\"#000000\">texture_mean ≤ 15.045</text>\n<text text-anchor=\"start\" x=\"341\" y=\"-275.8\" font-family=\"Helvetica,sans-Serif\" font-size=\"14.00\" fill=\"#000000\">entropy = 0.592</text>\n<text text-anchor=\"start\" x=\"344\" y=\"-260.8\" font-family=\"Helvetica,sans-Serif\" font-size=\"14.00\" fill=\"#000000\">samples = 273</text>\n<text text-anchor=\"start\" x=\"338\" y=\"-245.8\" font-family=\"Helvetica,sans-Serif\" font-size=\"14.00\" fill=\"#000000\">value = [234, 39]</text>\n<text text-anchor=\"start\" x=\"363\" y=\"-230.8\" font-family=\"Helvetica,sans-Serif\" font-size=\"14.00\" fill=\"#000000\">class = 0</text>\n</g>\n<!-- 0&#45;&gt;1 -->\n<g id=\"edge1\" class=\"edge\">\n<title>0&#45;&gt;1</title>\n<path fill=\"none\" stroke=\"#000000\" d=\"M462.8771,-341.8796C454.5451,-332.7832 445.6502,-323.0722 437.0761,-313.7116\"/>\n<polygon fill=\"#000000\" stroke=\"#000000\" points=\"439.6211,-311.3081 430.2856,-306.2981 434.4592,-316.0363 439.6211,-311.3081\"/>\n<text text-anchor=\"middle\" x=\"429.1902\" y=\"-327.5741\" font-family=\"Helvetica,sans-Serif\" font-size=\"14.00\" fill=\"#000000\">True</text>\n</g>\n<!-- 8 -->\n<g id=\"node9\" class=\"node\">\n<title>8</title>\n<path fill=\"#c6e3f7\" stroke=\"#000000\" d=\"M703,-306C703,-306 561,-306 561,-306 555,-306 549,-300 549,-294 549,-294 549,-235 549,-235 549,-229 555,-223 561,-223 561,-223 703,-223 703,-223 709,-223 715,-229 715,-235 715,-235 715,-294 715,-294 715,-300 709,-306 703,-306\"/>\n<text text-anchor=\"start\" x=\"557\" y=\"-290.8\" font-family=\"Helvetica,sans-Serif\" font-size=\"14.00\" fill=\"#000000\">texture_mean ≤ 19.965</text>\n<text text-anchor=\"start\" x=\"581\" y=\"-275.8\" font-family=\"Helvetica,sans-Serif\" font-size=\"14.00\" fill=\"#000000\">entropy = 0.979</text>\n<text text-anchor=\"start\" x=\"584\" y=\"-260.8\" font-family=\"Helvetica,sans-Serif\" font-size=\"14.00\" fill=\"#000000\">samples = 296</text>\n<text text-anchor=\"start\" x=\"574\" y=\"-245.8\" font-family=\"Helvetica,sans-Serif\" font-size=\"14.00\" fill=\"#000000\">value = [123, 173]</text>\n<text text-anchor=\"start\" x=\"603\" y=\"-230.8\" font-family=\"Helvetica,sans-Serif\" font-size=\"14.00\" fill=\"#000000\">class = 1</text>\n</g>\n<!-- 0&#45;&gt;8 -->\n<g id=\"edge8\" class=\"edge\">\n<title>0&#45;&gt;8</title>\n<path fill=\"none\" stroke=\"#000000\" d=\"M546.8174,-341.8796C557.0294,-332.6031 567.945,-322.6874 578.4376,-313.1559\"/>\n<polygon fill=\"#000000\" stroke=\"#000000\" points=\"580.9384,-315.6127 585.987,-306.2981 576.2316,-310.4313 580.9384,-315.6127\"/>\n<text text-anchor=\"middle\" x=\"584.7884\" y=\"-327.5693\" font-family=\"Helvetica,sans-Serif\" font-size=\"14.00\" fill=\"#000000\">False</text>\n</g>\n<!-- 2 -->\n<g id=\"node3\" class=\"node\">\n<title>2</title>\n<path fill=\"#e68742\" stroke=\"#000000\" d=\"M262,-187C262,-187 128,-187 128,-187 122,-187 116,-181 116,-175 116,-175 116,-116 116,-116 116,-110 122,-104 128,-104 128,-104 262,-104 262,-104 268,-104 274,-110 274,-116 274,-116 274,-175 274,-175 274,-181 268,-187 262,-187\"/>\n<text text-anchor=\"start\" x=\"124\" y=\"-171.8\" font-family=\"Helvetica,sans-Serif\" font-size=\"14.00\" fill=\"#000000\">texture_mean ≤ 11.93</text>\n<text text-anchor=\"start\" x=\"144\" y=\"-156.8\" font-family=\"Helvetica,sans-Serif\" font-size=\"14.00\" fill=\"#000000\">entropy = 0.258</text>\n<text text-anchor=\"start\" x=\"151\" y=\"-141.8\" font-family=\"Helvetica,sans-Serif\" font-size=\"14.00\" fill=\"#000000\">samples = 92</text>\n<text text-anchor=\"start\" x=\"149.5\" y=\"-126.8\" font-family=\"Helvetica,sans-Serif\" font-size=\"14.00\" fill=\"#000000\">value = [88, 4]</text>\n<text text-anchor=\"start\" x=\"166\" y=\"-111.8\" font-family=\"Helvetica,sans-Serif\" font-size=\"14.00\" fill=\"#000000\">class = 0</text>\n</g>\n<!-- 1&#45;&gt;2 -->\n<g id=\"edge2\" class=\"edge\">\n<title>1&#45;&gt;2</title>\n<path fill=\"none\" stroke=\"#000000\" d=\"M323.099,-222.8796C306.753,-213.0056 289.2081,-202.4075 272.5076,-192.3193\"/>\n<polygon fill=\"#000000\" stroke=\"#000000\" points=\"274.2314,-189.2716 263.8621,-187.0969 270.612,-195.2633 274.2314,-189.2716\"/>\n</g>\n<!-- 5 -->\n<g id=\"node6\" class=\"node\">\n<title>5</title>\n<path fill=\"#eb9f68\" stroke=\"#000000\" d=\"M463,-187C463,-187 321,-187 321,-187 315,-187 309,-181 309,-175 309,-175 309,-116 309,-116 309,-110 315,-104 321,-104 321,-104 463,-104 463,-104 469,-104 475,-110 475,-116 475,-116 475,-175 475,-175 475,-181 469,-187 463,-187\"/>\n<text text-anchor=\"start\" x=\"317\" y=\"-171.8\" font-family=\"Helvetica,sans-Serif\" font-size=\"14.00\" fill=\"#000000\">texture_mean ≤ 15.105</text>\n<text text-anchor=\"start\" x=\"341\" y=\"-156.8\" font-family=\"Helvetica,sans-Serif\" font-size=\"14.00\" fill=\"#000000\">entropy = 0.708</text>\n<text text-anchor=\"start\" x=\"344\" y=\"-141.8\" font-family=\"Helvetica,sans-Serif\" font-size=\"14.00\" fill=\"#000000\">samples = 181</text>\n<text text-anchor=\"start\" x=\"338\" y=\"-126.8\" font-family=\"Helvetica,sans-Serif\" font-size=\"14.00\" fill=\"#000000\">value = [146, 35]</text>\n<text text-anchor=\"start\" x=\"363\" y=\"-111.8\" font-family=\"Helvetica,sans-Serif\" font-size=\"14.00\" fill=\"#000000\">class = 0</text>\n</g>\n<!-- 1&#45;&gt;5 -->\n<g id=\"edge5\" class=\"edge\">\n<title>1&#45;&gt;5</title>\n<path fill=\"none\" stroke=\"#000000\" d=\"M392,-222.8796C392,-214.6838 392,-205.9891 392,-197.5013\"/>\n<polygon fill=\"#000000\" stroke=\"#000000\" points=\"395.5001,-197.298 392,-187.2981 388.5001,-197.2981 395.5001,-197.298\"/>\n</g>\n<!-- 3 -->\n<g id=\"node4\" class=\"node\">\n<title>3</title>\n<path fill=\"#eca06a\" stroke=\"#000000\" d=\"M106,-68C106,-68 12,-68 12,-68 6,-68 0,-62 0,-56 0,-56 0,-12 0,-12 0,-6 6,0 12,0 12,0 106,0 106,0 112,0 118,-6 118,-12 118,-12 118,-56 118,-56 118,-62 112,-68 106,-68\"/>\n<text text-anchor=\"start\" x=\"8\" y=\"-52.8\" font-family=\"Helvetica,sans-Serif\" font-size=\"14.00\" fill=\"#000000\">entropy = 0.722</text>\n<text text-anchor=\"start\" x=\"15\" y=\"-37.8\" font-family=\"Helvetica,sans-Serif\" font-size=\"14.00\" fill=\"#000000\">samples = 10</text>\n<text text-anchor=\"start\" x=\"17.5\" y=\"-22.8\" font-family=\"Helvetica,sans-Serif\" font-size=\"14.00\" fill=\"#000000\">value = [8, 2]</text>\n<text text-anchor=\"start\" x=\"30\" y=\"-7.8\" font-family=\"Helvetica,sans-Serif\" font-size=\"14.00\" fill=\"#000000\">class = 0</text>\n</g>\n<!-- 2&#45;&gt;3 -->\n<g id=\"edge3\" class=\"edge\">\n<title>2&#45;&gt;3</title>\n<path fill=\"none\" stroke=\"#000000\" d=\"M144.3586,-103.9815C132.7001,-94.4232 120.312,-84.2668 108.6941,-74.7419\"/>\n<polygon fill=\"#000000\" stroke=\"#000000\" points=\"110.7448,-71.8972 100.7925,-68.2637 106.3067,-77.3105 110.7448,-71.8972\"/>\n</g>\n<!-- 4 -->\n<g id=\"node5\" class=\"node\">\n<title>4</title>\n<path fill=\"#e6843e\" stroke=\"#000000\" d=\"M242,-68C242,-68 148,-68 148,-68 142,-68 136,-62 136,-56 136,-56 136,-12 136,-12 136,-6 142,0 148,0 148,0 242,0 242,0 248,0 254,-6 254,-12 254,-12 254,-56 254,-56 254,-62 248,-68 242,-68\"/>\n<text text-anchor=\"start\" x=\"144\" y=\"-52.8\" font-family=\"Helvetica,sans-Serif\" font-size=\"14.00\" fill=\"#000000\">entropy = 0.165</text>\n<text text-anchor=\"start\" x=\"151\" y=\"-37.8\" font-family=\"Helvetica,sans-Serif\" font-size=\"14.00\" fill=\"#000000\">samples = 82</text>\n<text text-anchor=\"start\" x=\"149.5\" y=\"-22.8\" font-family=\"Helvetica,sans-Serif\" font-size=\"14.00\" fill=\"#000000\">value = [80, 2]</text>\n<text text-anchor=\"start\" x=\"166\" y=\"-7.8\" font-family=\"Helvetica,sans-Serif\" font-size=\"14.00\" fill=\"#000000\">class = 0</text>\n</g>\n<!-- 2&#45;&gt;4 -->\n<g id=\"edge4\" class=\"edge\">\n<title>2&#45;&gt;4</title>\n<path fill=\"none\" stroke=\"#000000\" d=\"M195,-103.9815C195,-95.618 195,-86.7965 195,-78.3409\"/>\n<polygon fill=\"#000000\" stroke=\"#000000\" points=\"198.5001,-78.2636 195,-68.2637 191.5001,-78.2637 198.5001,-78.2636\"/>\n</g>\n<!-- 6 -->\n<g id=\"node7\" class=\"node\">\n<title>6</title>\n<path fill=\"#399de5\" stroke=\"#000000\" d=\"M361.5,-68C361.5,-68 284.5,-68 284.5,-68 278.5,-68 272.5,-62 272.5,-56 272.5,-56 272.5,-12 272.5,-12 272.5,-6 278.5,0 284.5,0 284.5,0 361.5,0 361.5,0 367.5,0 373.5,-6 373.5,-12 373.5,-12 373.5,-56 373.5,-56 373.5,-62 367.5,-68 361.5,-68\"/>\n<text text-anchor=\"start\" x=\"280.5\" y=\"-52.8\" font-family=\"Helvetica,sans-Serif\" font-size=\"14.00\" fill=\"#000000\">entropy = 0.0</text>\n<text text-anchor=\"start\" x=\"283.5\" y=\"-37.8\" font-family=\"Helvetica,sans-Serif\" font-size=\"14.00\" fill=\"#000000\">samples = 2</text>\n<text text-anchor=\"start\" x=\"281.5\" y=\"-22.8\" font-family=\"Helvetica,sans-Serif\" font-size=\"14.00\" fill=\"#000000\">value = [0, 2]</text>\n<text text-anchor=\"start\" x=\"294\" y=\"-7.8\" font-family=\"Helvetica,sans-Serif\" font-size=\"14.00\" fill=\"#000000\">class = 1</text>\n</g>\n<!-- 5&#45;&gt;6 -->\n<g id=\"edge6\" class=\"edge\">\n<title>5&#45;&gt;6</title>\n<path fill=\"none\" stroke=\"#000000\" d=\"M366.3069,-103.9815C360.8469,-95.1585 355.0716,-85.8258 349.5793,-76.9506\"/>\n<polygon fill=\"#000000\" stroke=\"#000000\" points=\"352.442,-74.9254 344.2035,-68.2637 346.4896,-78.609 352.442,-74.9254\"/>\n</g>\n<!-- 7 -->\n<g id=\"node8\" class=\"node\">\n<title>7</title>\n<path fill=\"#eb9d66\" stroke=\"#000000\" d=\"M504,-68C504,-68 404,-68 404,-68 398,-68 392,-62 392,-56 392,-56 392,-12 392,-12 392,-6 398,0 404,0 404,0 504,0 504,0 510,0 516,-6 516,-12 516,-12 516,-56 516,-56 516,-62 510,-68 504,-68\"/>\n<text text-anchor=\"start\" x=\"407\" y=\"-52.8\" font-family=\"Helvetica,sans-Serif\" font-size=\"14.00\" fill=\"#000000\">entropy = 0.69</text>\n<text text-anchor=\"start\" x=\"406\" y=\"-37.8\" font-family=\"Helvetica,sans-Serif\" font-size=\"14.00\" fill=\"#000000\">samples = 179</text>\n<text text-anchor=\"start\" x=\"400\" y=\"-22.8\" font-family=\"Helvetica,sans-Serif\" font-size=\"14.00\" fill=\"#000000\">value = [146, 33]</text>\n<text text-anchor=\"start\" x=\"425\" y=\"-7.8\" font-family=\"Helvetica,sans-Serif\" font-size=\"14.00\" fill=\"#000000\">class = 0</text>\n</g>\n<!-- 5&#45;&gt;7 -->\n<g id=\"edge7\" class=\"edge\">\n<title>5&#45;&gt;7</title>\n<path fill=\"none\" stroke=\"#000000\" d=\"M415.0865,-103.9815C419.9415,-95.2504 425.074,-86.0202 429.9629,-77.2281\"/>\n<polygon fill=\"#000000\" stroke=\"#000000\" points=\"433.1467,-78.7043 434.9476,-68.2637 427.0288,-75.3025 433.1467,-78.7043\"/>\n</g>\n<!-- 9 -->\n<g id=\"node10\" class=\"node\">\n<title>9</title>\n<path fill=\"#f7d9c4\" stroke=\"#000000\" d=\"M703,-187C703,-187 561,-187 561,-187 555,-187 549,-181 549,-175 549,-175 549,-116 549,-116 549,-110 555,-104 561,-104 561,-104 703,-104 703,-104 709,-104 715,-110 715,-116 715,-116 715,-175 715,-175 715,-181 709,-187 703,-187\"/>\n<text text-anchor=\"start\" x=\"557\" y=\"-171.8\" font-family=\"Helvetica,sans-Serif\" font-size=\"14.00\" fill=\"#000000\">texture_mean ≤ 19.845</text>\n<text text-anchor=\"start\" x=\"581\" y=\"-156.8\" font-family=\"Helvetica,sans-Serif\" font-size=\"14.00\" fill=\"#000000\">entropy = 0.977</text>\n<text text-anchor=\"start\" x=\"588\" y=\"-141.8\" font-family=\"Helvetica,sans-Serif\" font-size=\"14.00\" fill=\"#000000\">samples = 68</text>\n<text text-anchor=\"start\" x=\"582\" y=\"-126.8\" font-family=\"Helvetica,sans-Serif\" font-size=\"14.00\" fill=\"#000000\">value = [40, 28]</text>\n<text text-anchor=\"start\" x=\"603\" y=\"-111.8\" font-family=\"Helvetica,sans-Serif\" font-size=\"14.00\" fill=\"#000000\">class = 0</text>\n</g>\n<!-- 8&#45;&gt;9 -->\n<g id=\"edge9\" class=\"edge\">\n<title>8&#45;&gt;9</title>\n<path fill=\"none\" stroke=\"#000000\" d=\"M632,-222.8796C632,-214.6838 632,-205.9891 632,-197.5013\"/>\n<polygon fill=\"#000000\" stroke=\"#000000\" points=\"635.5001,-197.298 632,-187.2981 628.5001,-197.2981 635.5001,-197.298\"/>\n</g>\n<!-- 12 -->\n<g id=\"node13\" class=\"node\">\n<title>12</title>\n<path fill=\"#aad5f4\" stroke=\"#000000\" d=\"M919,-187C919,-187 785,-187 785,-187 779,-187 773,-181 773,-175 773,-175 773,-116 773,-116 773,-110 779,-104 785,-104 785,-104 919,-104 919,-104 925,-104 931,-110 931,-116 931,-116 931,-175 931,-175 931,-181 925,-187 919,-187\"/>\n<text text-anchor=\"start\" x=\"781\" y=\"-171.8\" font-family=\"Helvetica,sans-Serif\" font-size=\"14.00\" fill=\"#000000\">texture_mean ≤ 26.98</text>\n<text text-anchor=\"start\" x=\"801\" y=\"-156.8\" font-family=\"Helvetica,sans-Serif\" font-size=\"14.00\" fill=\"#000000\">entropy = 0.946</text>\n<text text-anchor=\"start\" x=\"804\" y=\"-141.8\" font-family=\"Helvetica,sans-Serif\" font-size=\"14.00\" fill=\"#000000\">samples = 228</text>\n<text text-anchor=\"start\" x=\"798\" y=\"-126.8\" font-family=\"Helvetica,sans-Serif\" font-size=\"14.00\" fill=\"#000000\">value = [83, 145]</text>\n<text text-anchor=\"start\" x=\"823\" y=\"-111.8\" font-family=\"Helvetica,sans-Serif\" font-size=\"14.00\" fill=\"#000000\">class = 1</text>\n</g>\n<!-- 8&#45;&gt;12 -->\n<g id=\"edge12\" class=\"edge\">\n<title>8&#45;&gt;12</title>\n<path fill=\"none\" stroke=\"#000000\" d=\"M708.9453,-222.8796C727.4509,-212.8697 747.3325,-202.1156 766.2127,-191.9031\"/>\n<polygon fill=\"#000000\" stroke=\"#000000\" points=\"767.9676,-194.9332 775.0981,-187.0969 764.6372,-188.7762 767.9676,-194.9332\"/>\n</g>\n<!-- 10 -->\n<g id=\"node11\" class=\"node\">\n<title>10</title>\n<path fill=\"#fae6d7\" stroke=\"#000000\" d=\"M640,-68C640,-68 546,-68 546,-68 540,-68 534,-62 534,-56 534,-56 534,-12 534,-12 534,-6 540,0 546,0 546,0 640,0 640,0 646,0 652,-6 652,-12 652,-12 652,-56 652,-56 652,-62 646,-68 640,-68\"/>\n<text text-anchor=\"start\" x=\"542\" y=\"-52.8\" font-family=\"Helvetica,sans-Serif\" font-size=\"14.00\" fill=\"#000000\">entropy = 0.991</text>\n<text text-anchor=\"start\" x=\"549\" y=\"-37.8\" font-family=\"Helvetica,sans-Serif\" font-size=\"14.00\" fill=\"#000000\">samples = 63</text>\n<text text-anchor=\"start\" x=\"543\" y=\"-22.8\" font-family=\"Helvetica,sans-Serif\" font-size=\"14.00\" fill=\"#000000\">value = [35, 28]</text>\n<text text-anchor=\"start\" x=\"564\" y=\"-7.8\" font-family=\"Helvetica,sans-Serif\" font-size=\"14.00\" fill=\"#000000\">class = 0</text>\n</g>\n<!-- 9&#45;&gt;10 -->\n<g id=\"edge10\" class=\"edge\">\n<title>9&#45;&gt;10</title>\n<path fill=\"none\" stroke=\"#000000\" d=\"M617.4778,-103.9815C614.4882,-95.4342 611.3312,-86.4086 608.3146,-77.7839\"/>\n<polygon fill=\"#000000\" stroke=\"#000000\" points=\"611.59,-76.5473 604.9846,-68.2637 604.9826,-78.8585 611.59,-76.5473\"/>\n</g>\n<!-- 11 -->\n<g id=\"node12\" class=\"node\">\n<title>11</title>\n<path fill=\"#e58139\" stroke=\"#000000\" d=\"M759.5,-68C759.5,-68 682.5,-68 682.5,-68 676.5,-68 670.5,-62 670.5,-56 670.5,-56 670.5,-12 670.5,-12 670.5,-6 676.5,0 682.5,0 682.5,0 759.5,0 759.5,0 765.5,0 771.5,-6 771.5,-12 771.5,-12 771.5,-56 771.5,-56 771.5,-62 765.5,-68 759.5,-68\"/>\n<text text-anchor=\"start\" x=\"678.5\" y=\"-52.8\" font-family=\"Helvetica,sans-Serif\" font-size=\"14.00\" fill=\"#000000\">entropy = 0.0</text>\n<text text-anchor=\"start\" x=\"681.5\" y=\"-37.8\" font-family=\"Helvetica,sans-Serif\" font-size=\"14.00\" fill=\"#000000\">samples = 5</text>\n<text text-anchor=\"start\" x=\"679.5\" y=\"-22.8\" font-family=\"Helvetica,sans-Serif\" font-size=\"14.00\" fill=\"#000000\">value = [5, 0]</text>\n<text text-anchor=\"start\" x=\"692\" y=\"-7.8\" font-family=\"Helvetica,sans-Serif\" font-size=\"14.00\" fill=\"#000000\">class = 0</text>\n</g>\n<!-- 9&#45;&gt;11 -->\n<g id=\"edge11\" class=\"edge\">\n<title>9&#45;&gt;11</title>\n<path fill=\"none\" stroke=\"#000000\" d=\"M665.1403,-103.9815C672.403,-94.8828 680.0983,-85.242 687.3796,-76.1199\"/>\n<polygon fill=\"#000000\" stroke=\"#000000\" points=\"690.1475,-78.2627 693.6505,-68.2637 684.6766,-73.8958 690.1475,-78.2627\"/>\n</g>\n<!-- 13 -->\n<g id=\"node14\" class=\"node\">\n<title>13</title>\n<path fill=\"#9ccef2\" stroke=\"#000000\" d=\"M902,-68C902,-68 802,-68 802,-68 796,-68 790,-62 790,-56 790,-56 790,-12 790,-12 790,-6 796,0 802,0 802,0 902,0 902,0 908,0 914,-6 914,-12 914,-12 914,-56 914,-56 914,-62 908,-68 902,-68\"/>\n<text text-anchor=\"start\" x=\"801\" y=\"-52.8\" font-family=\"Helvetica,sans-Serif\" font-size=\"14.00\" fill=\"#000000\">entropy = 0.918</text>\n<text text-anchor=\"start\" x=\"804\" y=\"-37.8\" font-family=\"Helvetica,sans-Serif\" font-size=\"14.00\" fill=\"#000000\">samples = 195</text>\n<text text-anchor=\"start\" x=\"798\" y=\"-22.8\" font-family=\"Helvetica,sans-Serif\" font-size=\"14.00\" fill=\"#000000\">value = [65, 130]</text>\n<text text-anchor=\"start\" x=\"823\" y=\"-7.8\" font-family=\"Helvetica,sans-Serif\" font-size=\"14.00\" fill=\"#000000\">class = 1</text>\n</g>\n<!-- 12&#45;&gt;13 -->\n<g id=\"edge13\" class=\"edge\">\n<title>12&#45;&gt;13</title>\n<path fill=\"none\" stroke=\"#000000\" d=\"M852,-103.9815C852,-95.618 852,-86.7965 852,-78.3409\"/>\n<polygon fill=\"#000000\" stroke=\"#000000\" points=\"855.5001,-78.2636 852,-68.2637 848.5001,-78.2637 855.5001,-78.2636\"/>\n</g>\n<!-- 14 -->\n<g id=\"node15\" class=\"node\">\n<title>14</title>\n<path fill=\"#fbeade\" stroke=\"#000000\" d=\"M1038,-68C1038,-68 944,-68 944,-68 938,-68 932,-62 932,-56 932,-56 932,-12 932,-12 932,-6 938,0 944,0 944,0 1038,0 1038,0 1044,0 1050,-6 1050,-12 1050,-12 1050,-56 1050,-56 1050,-62 1044,-68 1038,-68\"/>\n<text text-anchor=\"start\" x=\"940\" y=\"-52.8\" font-family=\"Helvetica,sans-Serif\" font-size=\"14.00\" fill=\"#000000\">entropy = 0.994</text>\n<text text-anchor=\"start\" x=\"947\" y=\"-37.8\" font-family=\"Helvetica,sans-Serif\" font-size=\"14.00\" fill=\"#000000\">samples = 33</text>\n<text text-anchor=\"start\" x=\"941\" y=\"-22.8\" font-family=\"Helvetica,sans-Serif\" font-size=\"14.00\" fill=\"#000000\">value = [18, 15]</text>\n<text text-anchor=\"start\" x=\"962\" y=\"-7.8\" font-family=\"Helvetica,sans-Serif\" font-size=\"14.00\" fill=\"#000000\">class = 0</text>\n</g>\n<!-- 12&#45;&gt;14 -->\n<g id=\"edge14\" class=\"edge\">\n<title>12&#45;&gt;14</title>\n<path fill=\"none\" stroke=\"#000000\" d=\"M903.7585,-103.9815C915.6742,-94.4232 928.3356,-84.2668 940.2097,-74.7419\"/>\n<polygon fill=\"#000000\" stroke=\"#000000\" points=\"942.6752,-77.2511 948.2856,-68.2637 938.2951,-71.7907 942.6752,-77.2511\"/>\n</g>\n</g>\n</svg>\n"
          },
          "metadata": {},
          "execution_count": 10
        }
      ]
    }
  ]
}