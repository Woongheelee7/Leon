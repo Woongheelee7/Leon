{
  "nbformat": 4,
  "nbformat_minor": 0,
  "metadata": {
    "colab": {
      "provenance": [],
      "authorship_tag": "ABX9TyPbKVQnfDj3HaFpDGf7D7le",
      "include_colab_link": true
    },
    "kernelspec": {
      "name": "python3",
      "display_name": "Python 3"
    },
    "language_info": {
      "name": "python"
    }
  },
  "cells": [
    {
      "cell_type": "markdown",
      "metadata": {
        "id": "view-in-github",
        "colab_type": "text"
      },
      "source": [
        "<a href=\"https://colab.research.google.com/github/Woongheelee7/Leon/blob/main/Decision_Tree.ipynb\" target=\"_parent\"><img src=\"https://colab.research.google.com/assets/colab-badge.svg\" alt=\"Open In Colab\"/></a>"
      ]
    },
    {
      "cell_type": "code",
      "execution_count": null,
      "metadata": {
        "id": "QECvayMksxx3"
      },
      "outputs": [],
      "source": [
        "%matplotlib inline\n",
        "import matplotlib.pyplot as plt\n",
        "import numpy as np\n",
        "import pandas as pd\n",
        "import seaborn as sns\n",
        "\n",
        "sns.set(font_scale=1.5)\n",
        "sns.set_style(\"whitegrid\", {'grid.linestyle':'--'})"
      ]
    },
    {
      "cell_type": "code",
      "source": [
        "def error_rate(p: float):\n",
        "    \"\"\"Classification error rate for a given binary class ratio\"\"\"\n",
        "    return p if p < 0.5 else 1 - p\n",
        "\n",
        "def gini_index(p: float):\n",
        "    \"\"\"Gini index for a given binary class ratio.\"\"\"\n",
        "    return 2 * p * (1 - p)\n",
        "\n",
        "def entropy(p: float):\n",
        "    \"\"\"Entropy for a given binary class ratio, normalized by ln(2)\"\"\"\n",
        "    return -(p * np.log(p + 1e-16) + (1 - p) * np.log(1 - p + 1e-16)) / (np.log(2) / 0.5)\n",
        "\n",
        "p = np.linspace(start=0, stop=1, num=200)\n",
        "plt.figure()\n",
        "sns.lineplot(x=p, y=[error_rate(x) for x in p], label=\"Error rate\")\n",
        "sns.lineplot(x=p, y=[gini_index(x) for x in p], label=\"Gini index\")\n",
        "sns.lineplot(x=p, y=[entropy(x) for x in p], label=\"Entropy\")\n",
        "\n",
        "plt.ylabel(\"Loss\")\n",
        "plt.xlabel(\"Class ratio\")\n",
        "plt.tight_layout()\n",
        "plt.show()"
      ],
      "metadata": {
        "id": "W18cpi_Ns8YX"
      },
      "execution_count": null,
      "outputs": []
    },
    {
      "cell_type": "code",
      "source": [
        "cancer = pd.read_csv(\"https://raw.githubusercontent.com/changyaochen/MECE4520/master/data/breast_cancer.csv\")\n",
        "cancer[\"label\"] = cancer[\"diagnosis\"].apply(lambda x: 0 if x == \"B\" else 1)\n",
        "cancer.head()"
      ],
      "metadata": {
        "id": "iM9UDIlMs-kf"
      },
      "execution_count": null,
      "outputs": []
    },
    {
      "cell_type": "code",
      "source": [
        "from sklearn import tree\n",
        "\n",
        "dt_model = tree.DecisionTreeClassifier(\n",
        "    criterion=\"gini\",\n",
        "    max_depth=3,\n",
        ")\n",
        "features = [\n",
        "    \"radius_mean\",\n",
        "    \"texture_mean\",\n",
        "    \"perimeter_mean\",\n",
        "    \"area_mean\",\n",
        "    \"smoothness_mean\",\n",
        "    \"compactness_mean\",\n",
        "    \"concavity_mean\",\n",
        "    \"concave_mean\",\n",
        "    \"symmetry_mean\",\n",
        "    \"fractal_mean\",\n",
        "    \"radius_se\",\n",
        "    \"texture_se\",\n",
        "    \"perimeter_se\",\n",
        "    \"area_se\",\n",
        "    \"smoothness_se\",\n",
        "    \"compactness_se\",\n",
        "    \"concavity_se\",\n",
        "    \"concave_se\",\n",
        "    \"symmetry_se\",\n",
        "    \"fractal_se\",\n",
        "    \"radius_extreme\",\n",
        "    \"texture_extreme\",\n",
        "    \"perimeter_extreme\",\n",
        "    \"area_extreme\",\n",
        "    \"smoothness_extreme\",\n",
        "    \"compactness_extreme\",\n",
        "    \"concavity_extreme\",\n",
        "    \"concave_extreme\",\n",
        "    \"symmetry_extreme\",\n",
        "    \"fractal_extreme\",\n",
        "]\n",
        "label = \"label\"\n",
        "dt_model.fit(X=cancer[features], y=cancer[label])"
      ],
      "metadata": {
        "id": "2lGaeR8RtBB6"
      },
      "execution_count": null,
      "outputs": []
    },
    {
      "cell_type": "code",
      "source": [
        "import graphviz\n",
        "\n",
        "dot_data = tree.export_graphviz(\n",
        "    decision_tree=dt_model, \n",
        "    out_file=None, \n",
        "    feature_names=features,  \n",
        "    class_names=[\"0\", \"1\"],  \n",
        "    filled=True, \n",
        "    rounded=True,  \n",
        "    special_characters=True,\n",
        "    max_depth=2,\n",
        ")  \n",
        "graph = graphviz.Source(dot_data)  \n",
        "graph.render(\"cancer_tree\")\n",
        "graph"
      ],
      "metadata": {
        "id": "kLC7Q8eKtEYv"
      },
      "execution_count": null,
      "outputs": []
    }
  ]
}