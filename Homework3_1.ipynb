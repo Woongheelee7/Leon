{
  "nbformat": 4,
  "nbformat_minor": 0,
  "metadata": {
    "colab": {
      "provenance": [],
      "collapsed_sections": [],
      "authorship_tag": "ABX9TyPLdGJ4cMkkmzPMSgOH7NA4",
      "include_colab_link": true
    },
    "kernelspec": {
      "name": "python3",
      "display_name": "Python 3"
    },
    "language_info": {
      "name": "python"
    }
  },
  "cells": [
    {
      "cell_type": "markdown",
      "metadata": {
        "id": "view-in-github",
        "colab_type": "text"
      },
      "source": [
        "<a href=\"https://colab.research.google.com/github/Woongheelee7/Leon/blob/main/Homework3_1.ipynb\" target=\"_parent\"><img src=\"https://colab.research.google.com/assets/colab-badge.svg\" alt=\"Open In Colab\"/></a>"
      ]
    },
    {
      "cell_type": "code",
      "execution_count": 19,
      "metadata": {
        "id": "OztT3s659TyD"
      },
      "outputs": [],
      "source": [
        "from typing import List\n",
        "from typing import Tuple\n",
        "from typing import Union\n",
        "\n",
        "import matplotlib.pyplot as plt\n",
        "import numpy as np\n",
        "import pandas as pd\n",
        "import seaborn as sns\n",
        "import statsmodels.formula.api as smf\n",
        "from statsmodels.formula.api import ols\n",
        "from tqdm import tqdm\n",
        "\n",
        "sns.set(font_scale=1.5)\n",
        "sns.set_style(\"whitegrid\", {'grid.linestyle':'--'})"
      ]
    },
    {
      "cell_type": "code",
      "source": [
        "data = pd.read_csv(\"https://raw.githubusercontent.com/changyaochen/MECE4520/master/data/simple_linear_regression.csv\",names=[\"1st_col\",\"2nd_col\"])\n",
        "\n",
        "\n",
        "data.head()\n",
        "\n"
      ],
      "metadata": {
        "colab": {
          "base_uri": "https://localhost:8080/",
          "height": 206
        },
        "id": "LqgeFLTr9Wh3",
        "outputId": "5ce59799-eb40-49ee-9d32-4fab96a8945b"
      },
      "execution_count": 20,
      "outputs": [
        {
          "output_type": "execute_result",
          "data": {
            "text/plain": [
              "   1st_col  2nd_col\n",
              "0  -15.000 -555.482\n",
              "1  -14.824 -388.301\n",
              "2  -14.648 -317.445\n",
              "3  -14.472 -412.942\n",
              "4  -14.296 -310.663"
            ],
            "text/html": [
              "\n",
              "  <div id=\"df-8f2251cb-2af4-4489-9246-fc5ff4046dd4\">\n",
              "    <div class=\"colab-df-container\">\n",
              "      <div>\n",
              "<style scoped>\n",
              "    .dataframe tbody tr th:only-of-type {\n",
              "        vertical-align: middle;\n",
              "    }\n",
              "\n",
              "    .dataframe tbody tr th {\n",
              "        vertical-align: top;\n",
              "    }\n",
              "\n",
              "    .dataframe thead th {\n",
              "        text-align: right;\n",
              "    }\n",
              "</style>\n",
              "<table border=\"1\" class=\"dataframe\">\n",
              "  <thead>\n",
              "    <tr style=\"text-align: right;\">\n",
              "      <th></th>\n",
              "      <th>1st_col</th>\n",
              "      <th>2nd_col</th>\n",
              "    </tr>\n",
              "  </thead>\n",
              "  <tbody>\n",
              "    <tr>\n",
              "      <th>0</th>\n",
              "      <td>-15.000</td>\n",
              "      <td>-555.482</td>\n",
              "    </tr>\n",
              "    <tr>\n",
              "      <th>1</th>\n",
              "      <td>-14.824</td>\n",
              "      <td>-388.301</td>\n",
              "    </tr>\n",
              "    <tr>\n",
              "      <th>2</th>\n",
              "      <td>-14.648</td>\n",
              "      <td>-317.445</td>\n",
              "    </tr>\n",
              "    <tr>\n",
              "      <th>3</th>\n",
              "      <td>-14.472</td>\n",
              "      <td>-412.942</td>\n",
              "    </tr>\n",
              "    <tr>\n",
              "      <th>4</th>\n",
              "      <td>-14.296</td>\n",
              "      <td>-310.663</td>\n",
              "    </tr>\n",
              "  </tbody>\n",
              "</table>\n",
              "</div>\n",
              "      <button class=\"colab-df-convert\" onclick=\"convertToInteractive('df-8f2251cb-2af4-4489-9246-fc5ff4046dd4')\"\n",
              "              title=\"Convert this dataframe to an interactive table.\"\n",
              "              style=\"display:none;\">\n",
              "        \n",
              "  <svg xmlns=\"http://www.w3.org/2000/svg\" height=\"24px\"viewBox=\"0 0 24 24\"\n",
              "       width=\"24px\">\n",
              "    <path d=\"M0 0h24v24H0V0z\" fill=\"none\"/>\n",
              "    <path d=\"M18.56 5.44l.94 2.06.94-2.06 2.06-.94-2.06-.94-.94-2.06-.94 2.06-2.06.94zm-11 1L8.5 8.5l.94-2.06 2.06-.94-2.06-.94L8.5 2.5l-.94 2.06-2.06.94zm10 10l.94 2.06.94-2.06 2.06-.94-2.06-.94-.94-2.06-.94 2.06-2.06.94z\"/><path d=\"M17.41 7.96l-1.37-1.37c-.4-.4-.92-.59-1.43-.59-.52 0-1.04.2-1.43.59L10.3 9.45l-7.72 7.72c-.78.78-.78 2.05 0 2.83L4 21.41c.39.39.9.59 1.41.59.51 0 1.02-.2 1.41-.59l7.78-7.78 2.81-2.81c.8-.78.8-2.07 0-2.86zM5.41 20L4 18.59l7.72-7.72 1.47 1.35L5.41 20z\"/>\n",
              "  </svg>\n",
              "      </button>\n",
              "      \n",
              "  <style>\n",
              "    .colab-df-container {\n",
              "      display:flex;\n",
              "      flex-wrap:wrap;\n",
              "      gap: 12px;\n",
              "    }\n",
              "\n",
              "    .colab-df-convert {\n",
              "      background-color: #E8F0FE;\n",
              "      border: none;\n",
              "      border-radius: 50%;\n",
              "      cursor: pointer;\n",
              "      display: none;\n",
              "      fill: #1967D2;\n",
              "      height: 32px;\n",
              "      padding: 0 0 0 0;\n",
              "      width: 32px;\n",
              "    }\n",
              "\n",
              "    .colab-df-convert:hover {\n",
              "      background-color: #E2EBFA;\n",
              "      box-shadow: 0px 1px 2px rgba(60, 64, 67, 0.3), 0px 1px 3px 1px rgba(60, 64, 67, 0.15);\n",
              "      fill: #174EA6;\n",
              "    }\n",
              "\n",
              "    [theme=dark] .colab-df-convert {\n",
              "      background-color: #3B4455;\n",
              "      fill: #D2E3FC;\n",
              "    }\n",
              "\n",
              "    [theme=dark] .colab-df-convert:hover {\n",
              "      background-color: #434B5C;\n",
              "      box-shadow: 0px 1px 3px 1px rgba(0, 0, 0, 0.15);\n",
              "      filter: drop-shadow(0px 1px 2px rgba(0, 0, 0, 0.3));\n",
              "      fill: #FFFFFF;\n",
              "    }\n",
              "  </style>\n",
              "\n",
              "      <script>\n",
              "        const buttonEl =\n",
              "          document.querySelector('#df-8f2251cb-2af4-4489-9246-fc5ff4046dd4 button.colab-df-convert');\n",
              "        buttonEl.style.display =\n",
              "          google.colab.kernel.accessAllowed ? 'block' : 'none';\n",
              "\n",
              "        async function convertToInteractive(key) {\n",
              "          const element = document.querySelector('#df-8f2251cb-2af4-4489-9246-fc5ff4046dd4');\n",
              "          const dataTable =\n",
              "            await google.colab.kernel.invokeFunction('convertToInteractive',\n",
              "                                                     [key], {});\n",
              "          if (!dataTable) return;\n",
              "\n",
              "          const docLinkHtml = 'Like what you see? Visit the ' +\n",
              "            '<a target=\"_blank\" href=https://colab.research.google.com/notebooks/data_table.ipynb>data table notebook</a>'\n",
              "            + ' to learn more about interactive tables.';\n",
              "          element.innerHTML = '';\n",
              "          dataTable['output_type'] = 'display_data';\n",
              "          await google.colab.output.renderOutput(dataTable, element);\n",
              "          const docLink = document.createElement('div');\n",
              "          docLink.innerHTML = docLinkHtml;\n",
              "          element.appendChild(docLink);\n",
              "        }\n",
              "      </script>\n",
              "    </div>\n",
              "  </div>\n",
              "  "
            ]
          },
          "metadata": {},
          "execution_count": 20
        }
      ]
    },
    {
      "cell_type": "code",
      "source": [
        "y = np.array(data[\"2nd_col\"])\n",
        "x = np.array(data[\"1st_col\"])\n",
        "beta_0=1\n",
        "beta_1=1\n",
        "y_hat = beta_0 +beta_1*x\n",
        "error = y-y_hat\n",
        "Loss_1 = (sum(error**2))/len(x)\n",
        "Loss_1 "
      ],
      "metadata": {
        "colab": {
          "base_uri": "https://localhost:8080/"
        },
        "id": "vEJ4CpAz-3P6",
        "outputId": "f9fef40e-1846-47ed-c874-4c8e2d6627e2"
      },
      "execution_count": 21,
      "outputs": [
        {
          "output_type": "execute_result",
          "data": {
            "text/plain": [
              "38043.91740195"
            ]
          },
          "metadata": {},
          "execution_count": 21
        }
      ]
    },
    {
      "cell_type": "code",
      "source": [
        "lr=0.001\n",
        "epochs=(len(x))\n",
        "for i in range(10):\n",
        "  y_hat = beta_0 +beta_1*x\n",
        "  error = y-y_hat\n",
        "  beta_1_diff= (-1/len(x))*sum(2*error*x)\n",
        "  beta_0_diff =(-1/len(x))*sum(2*error)\n",
        "  beta_1 = beta_1 -lr*beta_1_diff\n",
        "  beta_0 = beta_0 -lr*beta_0_diff\n",
        "  Loss_1 = (sum(error**2))/len(x)\n",
        "  print(\"epochs=%.f, beta_1=%.04f, beta_0=%.04f,error=%.04f,Loss=%.04f\"%(i,beta_1,beta_0,error.mean(),Loss_1))\n",
        "\n",
        "\n",
        "\n"
      ],
      "metadata": {
        "id": "mmbrvZMI9pes",
        "colab": {
          "base_uri": "https://localhost:8080/"
        },
        "outputId": "c16af5cd-3970-433f-a933-ccb40846788a"
      },
      "execution_count": 18,
      "outputs": [
        {
          "output_type": "stream",
          "name": "stdout",
          "text": [
            "epochs=0, beta_1=4.5856, beta_0=1.0135,error=6.7272,Loss=38043.9174\n",
            "epochs=1, beta_1=7.3868, beta_0=1.0090,error=-2.2502,Loss=26593.7407\n",
            "epochs=2, beta_1=9.5754, beta_0=0.9905,error=-9.2488,Loss=19604.7499\n",
            "epochs=3, beta_1=11.2854, beta_0=0.9611,error=-14.7018,Loss=15338.0775\n",
            "epochs=4, beta_1=12.6216, beta_0=0.9232,error=-18.9474,Loss=12732.6291\n",
            "epochs=5, beta_1=13.6656, beta_0=0.8787,error=-22.2499,Loss=11140.9023\n",
            "epochs=6, beta_1=14.4816, beta_0=0.8290,error=-24.8156,Loss=10167.7769\n",
            "epochs=7, beta_1=15.1193, beta_0=0.7754,error=-26.8059,Loss=9572.1423\n",
            "epochs=8, beta_1=15.6179, beta_0=0.7187,error=-28.3466,Loss=9206.8676\n",
            "epochs=9, beta_1=16.0076, beta_0=0.6596,error=-29.5362,Loss=8982.1701\n"
          ]
        }
      ]
    }
  ]
}